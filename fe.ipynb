{
 "cells": [
  {
   "cell_type": "markdown",
   "id": "cd46072e",
   "metadata": {},
   "source": [
    "# Feature Engingeering"
   ]
  },
  {
   "cell_type": "markdown",
   "id": "ab15797b",
   "metadata": {},
   "source": [
    "## Import Libraries"
   ]
  },
  {
   "cell_type": "code",
   "execution_count": 6,
   "id": "cae62795",
   "metadata": {},
   "outputs": [],
   "source": [
    "## Import core libraries:\n",
    "\n",
    "# For data\n",
    "import pandas as pd\n",
    "import numpy as np\n",
    "\n",
    "# For scaling processes\n",
    "from sklearn.preprocessing import StandardScaler, RobustScaler, MinMaxScaler\n",
    "\n",
    "# For modelling (specifically for generating the constant column as part of FE)\n",
    "import statsmodels.api as sm"
   ]
  },
  {
   "cell_type": "markdown",
   "id": "c218362c",
   "metadata": {},
   "source": [
    "## Importing Data"
   ]
  },
  {
   "cell_type": "code",
   "execution_count": 7,
   "id": "a8d6bba0",
   "metadata": {},
   "outputs": [],
   "source": [
    "## Read the data set:\n",
    "\n",
    "# Create data frame from the WHO data\n",
    "who = pd.read_csv(\"https://raw.githubusercontent.com/Ale42RA/WHO_analytica/refs/heads/main/life_expectancy_data.csv\")"
   ]
  },
  {
   "cell_type": "markdown",
   "id": "48e0ae15",
   "metadata": {},
   "source": [
    "## Feature Engingeering"
   ]
  },
  {
   "cell_type": "code",
   "execution_count": 8,
   "id": "120896e4",
   "metadata": {},
   "outputs": [],
   "source": [
    "## Feature Engingeering process:\n",
    "\n",
    "# Custom function for all FE processes\n",
    "def feature_eng(who):\n",
    "        # Create copy of the data frame\n",
    "        who = who.copy()\n",
    "        \n",
    "        # One Hot Encoding (OHE)\n",
    "        who = pd.get_dummies(who, columns = ['Region'], drop_first = True, prefix = 'Region', dtype = int)\n",
    "                   \n",
    "        # Converting features into logarithm\n",
    "        who['Incidents_HIV_log'] = np.log(who['Incidents_HIV'])\n",
    "        who['GDP_per_capita_log'] = np.log(who['GDP_per_capita'])\n",
    "\n",
    "        # Creaitng scaler variables\n",
    "        standard_scaler = StandardScaler()\n",
    "        minmax_scaler = MinMaxScaler()\n",
    "        robust_scaler = RobustScaler()\n",
    "\n",
    "        # Normalisation distributed features\n",
    "        standard_cols = ['BMI', 'Schooling', 'Infant_deaths']\n",
    "        who[standard_cols] = standard_scaler.fit_transform(who[standard_cols])\n",
    "\n",
    "        # MinMax scaling for bounded features to preserve the original shape of the distribution\n",
    "        minmax_cols = ['GDP_per_capita_log', 'Incidents_HIV_log']\n",
    "        who[minmax_cols] = minmax_scaler.fit_transform(who[minmax_cols])\n",
    "\n",
    "         # Robust scaling for features with outliers and maintain distribution's shape\n",
    "        robust_cols = ['Under_five_deaths', 'Adult_mortality']\n",
    "        for col in robust_cols:\n",
    "                who[[col]] = robust_scaler.fit_transform(who[[col]])\n",
    "        \n",
    "        # Created for statsmodeling. Must always be present\n",
    "        who = sm.add_constant(who)\n",
    "\n",
    "        # Return the results\n",
    "        return who"
   ]
  },
  {
   "cell_type": "markdown",
   "id": "89fd6260",
   "metadata": {},
   "source": [
    "## Feature Columns for the 'Main' model"
   ]
  },
  {
   "cell_type": "code",
   "execution_count": 9,
   "id": "8c2afe33",
   "metadata": {},
   "outputs": [],
   "source": [
    "## Main model feature columns:\n",
    "\n",
    "feature_cols = [\n",
    " 'const',\n",
    " 'Under_five_deaths',\n",
    " 'Adult_mortality',\n",
    " 'BMI',\n",
    " 'Incidents_HIV_log',\n",
    " 'GDP_per_capita_log',\n",
    " 'Schooling',\n",
    " 'Region_Asia',\n",
    " 'Region_Central America and Caribbean',\n",
    " 'Region_European Union',\n",
    " 'Region_Middle East',\n",
    " 'Region_North America',\n",
    " 'Region_Oceania',\n",
    " 'Region_Rest of Europe',\n",
    " 'Region_South America'\n",
    " ]"
   ]
  },
  {
   "cell_type": "markdown",
   "id": "4d9b5ae4",
   "metadata": {},
   "source": [
    "## Feature Columns for the 'Ethical' model"
   ]
  },
  {
   "cell_type": "code",
   "execution_count": 10,
   "id": "4cb64d1e",
   "metadata": {},
   "outputs": [],
   "source": [
    "## Ethical model feature columns:\n",
    "\n",
    "feature_cols_eth = [\n",
    " 'const',\n",
    " 'Under_five_deaths',\n",
    " 'Adult_mortality',\n",
    " 'Region_Asia',\n",
    " 'Region_Central America and Caribbean',\n",
    " 'Region_European Union',\n",
    " 'Region_Middle East',\n",
    " 'Region_North America',\n",
    " 'Region_Oceania',\n",
    " 'Region_Rest of Europe',\n",
    " 'Region_South America'\n",
    " ]"
   ]
  }
 ],
 "metadata": {
  "kernelspec": {
   "display_name": "Python 3 (ipykernel)",
   "language": "python",
   "name": "python3"
  },
  "language_info": {
   "codemirror_mode": {
    "name": "ipython",
    "version": 3
   },
   "file_extension": ".py",
   "mimetype": "text/x-python",
   "name": "python",
   "nbconvert_exporter": "python",
   "pygments_lexer": "ipython3",
   "version": "3.12.7"
  }
 },
 "nbformat": 4,
 "nbformat_minor": 5
}
