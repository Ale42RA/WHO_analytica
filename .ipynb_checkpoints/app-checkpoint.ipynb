{
 "cells": [
  {
   "cell_type": "code",
   "execution_count": 73,
   "id": "e80f8c00-89c5-4edb-a37c-0ccba4e7d86b",
   "metadata": {},
   "outputs": [],
   "source": [
    "import numpy as np\n",
    "from sklearn.preprocessing import MinMaxScaler, RobustScaler, StandardScaler\n",
    "import pandas as pd\n",
    "import joblib"
   ]
  },
  {
   "cell_type": "code",
   "execution_count": 75,
   "id": "a27a8755-9919-47be-a240-16b55214e63b",
   "metadata": {},
   "outputs": [],
   "source": [
    "def map_region(value):\n",
    "    if value == 1:\n",
    "        name = 'Region_Asia'\n",
    "    elif value == 2:\n",
    "        name = 'Region_Central America and Caribbean'\n",
    "    elif value == 3:\n",
    "        name = 'Region_European Union'\n",
    "    elif value == 4:\n",
    "        name = 'Region_Middle East'\n",
    "    elif value == 5:\n",
    "        name = 'Region_North America'\n",
    "    elif value == 6:\n",
    "        name = 'Region_Oceania'\n",
    "    elif value == 7:\n",
    "        name = 'Region_Rest of Europe'\n",
    "    elif value == 8:\n",
    "        name = 'Region_South America'\n",
    "    return name"
   ]
  },
  {
   "cell_type": "code",
   "execution_count": 77,
   "id": "b6e88505-21d1-47bf-9b37-82fc1a6ecbb9",
   "metadata": {},
   "outputs": [],
   "source": [
    "def validate_region(input_value):\n",
    "    enc_map = int(validate_ranged(input_value, 1, 8))\n",
    "    return map_region(enc_map)\n",
    "    \n",
    "def validate_school(input_value):\n",
    "    return validate_ranged(input_value, 0, 20)\n",
    "\n",
    "def validate_bmi(input_value):\n",
    "    return validate_ranged(input_value, 1, 40)\n",
    "\n",
    "def validate_positive_float(input_value):\n",
    "    try:\n",
    "        value = float(input_value)\n",
    "        assert value > 0\n",
    "        return value\n",
    "    except (ValueError, AssertionError):\n",
    "        raise ValueError(f\"Must be a positive number.\")\n",
    "\n",
    "def validate_ranged(input_value, minv=0, maxv=1000):\n",
    "    try:\n",
    "        value = float(input_value)\n",
    "        assert minv <= value <= maxv  \n",
    "        return value\n",
    "    except (ValueError, AssertionError):\n",
    "        raise ValueError(f\"Must be a number between {minv} and {maxv}.\")\n"
   ]
  },
  {
   "cell_type": "code",
   "execution_count": 79,
   "id": "30acc6a3-e84b-4b29-8f38-2c1fa26d9968",
   "metadata": {},
   "outputs": [],
   "source": [
    "model_1_params = {\n",
    "    'const': 69.21197568956534, \n",
    "    'Under_five_deaths': -4.182220994190924, \n",
    "    'Adult_mortality': -6.24779898044286, \n",
    "    'BMI': -0.5529768222701559, \n",
    "    'Schooling': 0.54699705573051, \n",
    "    'GDP_per_capita_log': 5.062474585988401, \n",
    "    'Incidents_HIV_log': -1.2380416175750413, \n",
    "    'Region_Asia': -0.258756248647668, \n",
    "    'Region_Central America and Caribbean': 1.513269339213396, \n",
    "    'Region_European Union': 0.7187216306389358, \n",
    "    'Region_Middle East': -0.22551325872249164, \n",
    "    'Region_North America': 1.427932115236103, \n",
    "    'Region_Oceania': -0.7937502455802756, \n",
    "    'Region_Rest of Europe': 0.3350217991614595, \n",
    "    'Region_South America': 1.0844795471719326\n",
    "}    \n",
    "model_2_params = {\n",
    "    'const': 72.1525761376697, \n",
    "    'Under_five_deaths': -5.494643384419958, \n",
    "    'Adult_mortality': -6.658005120051611, \n",
    "    'BMI': -0.13039081436056832\n",
    "}"
   ]
  },
  {
   "cell_type": "code",
   "execution_count": 81,
   "id": "4a74038b-5169-440e-86ab-876ad813029a",
   "metadata": {},
   "outputs": [],
   "source": [
    "def scale_responses(responses):\n",
    "    responses = pd.DataFrame.from_dict([responses])\n",
    "    \n",
    "    if 'Incidents_HIV_log' in responses:\n",
    "        responses['Incidents_HIV_log'] = np.log(responses['Incidents_HIV_log'])\n",
    "    if 'GDP_per_capita_log' in responses:\n",
    "        responses['GDP_per_capita_log'] = np.log(responses['GDP_per_capita_log'])\n",
    "\n",
    "    # Load the scalers\n",
    "    standard_scaler_bmi = joblib.load('scr/standard_scaler_bmi.pkl')\n",
    "    standard_scaler_schooling = joblib.load('scr/standard_scaler_schooling.pkl')\n",
    "    minmax_scaler_gdp = joblib.load('scr/minmax_scaler_gdp.pkl')\n",
    "    minmax_scaler_hiv = joblib.load('scr/minmax_scaler_hiv.pkl')\n",
    "    robust_scaler_under_five = joblib.load('scr/robust_scaler_under_five.pkl')\n",
    "    robust_scaler_adult_mortality = joblib.load('scr/robust_scaler_adult_mortality.pkl')\n",
    "    \n",
    "    if 'BMI' in responses:\n",
    "        responses['BMI'] = standard_scaler_bmi.transform(responses[['BMI']]) \n",
    "    if 'Schooling' in responses:\n",
    "        responses['Schooling'] = standard_scaler_schooling.transform(responses[['Schooling']])  \n",
    "    \n",
    "    if 'GDP_per_capita_log' in responses:\n",
    "        responses['GDP_per_capita_log'] = minmax_scaler_gdp.transform(responses[['GDP_per_capita_log']])  \n",
    "    if 'Incidents_HIV_log' in responses:\n",
    "        responses['Incidents_HIV_log'] = minmax_scaler_hiv.transform(responses[['Incidents_HIV_log']])  \n",
    "\n",
    "    if 'Under_five_deaths' in responses:\n",
    "        responses['Under_five_deaths'] = robust_scaler_under_five.transform(responses[['Under_five_deaths']]) \n",
    "    if 'Adult_mortality' in responses:\n",
    "        responses['Adult_mortality'] = robust_scaler_adult_mortality.transform(responses[['Adult_mortality']]) \n",
    "\n",
    "    scaled = responses.squeeze().to_dict()\n",
    "   \n",
    "    return scaled  "
   ]
  },
  {
   "cell_type": "code",
   "execution_count": 83,
   "id": "bba19f76-c9bf-48eb-80f3-0c7ae1e46c33",
   "metadata": {},
   "outputs": [],
   "source": [
    "def compute_prediction(responses, model_params):\n",
    "    prediction = model_params['const']\n",
    "    \n",
    "    for feature, value in responses.items():\n",
    "        if feature in model_params:\n",
    "            prediction += model_params[feature] * value\n",
    "    \n",
    "    return prediction\n",
    "    "
   ]
  },
  {
   "cell_type": "code",
   "execution_count": 85,
   "id": "a6bc3039-0be3-4144-b4b2-998e0397df41",
   "metadata": {},
   "outputs": [],
   "source": [
    "precise_qv = [       \n",
    "    (\"Under five deaths (Number of under-five deaths per 1000 population)\\n\",\n",
    "         validate_positive_float,\n",
    "        \"Under_five_deaths\"\n",
    "    ),\n",
    "    (\"Adult mortality (Probability of dying between 15 and 60 years per 1000 population)\\n\", \n",
    "         validate_positive_float,\n",
    "         \"Adult_mortality\",\n",
    "    ),\n",
    "    (\"BMI (Average Body Mass Index of entire population)\\n\", \n",
    "         validate_bmi,\n",
    "        \"BMI\"\n",
    "    ),\n",
    "    (\"Schooling (Number of years of Schooling(years)):\\n\", \n",
    "         validate_school,\n",
    "            \"Schooling\"\n",
    "    ),\n",
    "    (\"Incidents of HIV (Deaths per 1,000 live births HIV/AIDS (0-4 years))\\n\", \n",
    "         validate_positive_float,\n",
    "        \"Incidents_HIV_log\"),\n",
    "    (\"GDP per capita (Gross Domestic Product per capita (in USD))\\n$\", \n",
    "         validate_positive_float,\n",
    "    \"GDP_per_capita_log\"),\n",
    "    (\n",
    "        \"Select a region for:\\n\"\n",
    "        \"  1: Asia\\n\"\n",
    "        \"  2: Central America and Caribbean\\n\"\n",
    "        \"  3: European Union\\n\"\n",
    "        \"  4: Middle East\\n\"\n",
    "        \"  5: North America\\n\"\n",
    "        \"  6: Oceania\\n\"\n",
    "        \"  7: Rest of Europe\\n\"\n",
    "        \"  8: South America\\n\",\n",
    "        validate_region,\n",
    "        \"Region\"\n",
    "    )\n",
    "]"
   ]
  },
  {
   "cell_type": "code",
   "execution_count": 87,
   "id": "e94bda36-e2f9-4e28-927d-fecf6df507ba",
   "metadata": {},
   "outputs": [],
   "source": [
    "# {'R_European Union': 1.0, 'Under_five_deaths': -0.3336306868867083, 'Adult_mortality': -0.44910356720395617, 'BMI': 0.2602316599807751, 'Incidents_HIV_log': 0.23325462336548392, 'GDP_per_capita_log': 0.9706438107276493, 'Schooling': 0.8451610438231039}\n",
    "# Your responses are: \n",
    "#  {'R_European Union': 1, 'Under_five_deaths': 4.5, 'Adult_mortality': 100.072, 'BMI': 25.6, 'Incidents_HIV_log': 0.06, 'GDP_per_capita_log': 92528, 'Schooling': 10.3}"
   ]
  },
  {
   "cell_type": "code",
   "execution_count": 89,
   "id": "4cb769d8-60e4-4aa7-9014-ce4e99770bd7",
   "metadata": {},
   "outputs": [],
   "source": [
    "minimal_qv = [       \n",
    "    (\"Under five deaths (Number of under-five deaths per 1000 population)\\n\",\n",
    "         validate_positive_float,\n",
    "        \"Under_five_deaths\"\n",
    "    ),\n",
    "    (\"Adult mortality (Probability of dying between 15 and 60 years per 1000 population)\\n\", \n",
    "         validate_positive_float,\n",
    "         \"Adult_mortality\",\n",
    "    ),\n",
    "    (\"BMI (Average Body Mass Index of entire population)\\n\", \n",
    "         validate_bmi,\n",
    "        \"BMI\"\n",
    "    )\n",
    "] "
   ]
  },
  {
   "cell_type": "code",
   "execution_count": 91,
   "id": "e44ad304-2049-4672-a6d9-25e4b77cfaf4",
   "metadata": {},
   "outputs": [],
   "source": [
    "def get_model_wanted():\n",
    "    while True:\n",
    "        try:\n",
    "            response = input(\n",
    "                \"Select the model you want to use:\\n\"\n",
    "                \"  1: Precise\\n\"\n",
    "                \"  2: Minimalistic\\n\"\n",
    "            )\n",
    "            validated_response = validate_ranged(response, 1, 2)\n",
    "            break\n",
    "        except ValueError as e:\n",
    "                print(e)\n",
    "    return int(response)"
   ]
  },
  {
   "cell_type": "code",
   "execution_count": 93,
   "id": "cadc705d-fa65-4498-b016-fb7b91b628e2",
   "metadata": {},
   "outputs": [],
   "source": [
    "def app():\n",
    "    model_chosed = get_model_wanted() \n",
    "    if model_chosed == 1:\n",
    "        print(\"***** Precise Model ***** \\n\\n\\n\")\n",
    "        questions_and_validators = precise_qv\n",
    "        model_param = model_1_params\n",
    "    else:\n",
    "        print(\"***** Minimalistic Model *****\\n\\n\\n\")\n",
    "        questions_and_validators = minimal_qv\n",
    "        model_param = model_2_params\n",
    "    \n",
    "    responses = {}\n",
    "    for question, validator, name in questions_and_validators:\n",
    "        while True:\n",
    "            try:\n",
    "                response = input(f\"{question} \")\n",
    "                validated_response = validator(response)\n",
    "                if name == 'Region':\n",
    "                    responses[validated_response] = 1\n",
    "                else:\n",
    "                    responses[name] = validated_response\n",
    "                \n",
    "                break\n",
    "            except ValueError as e:\n",
    "                print(e)\n",
    "\n",
    "    scaled_responses = scale_responses(responses)\n",
    "    prediction = compute_prediction(scaled_responses, model_param)\n",
    "    \n",
    "    print(f\"Your responses are: \\n {responses}\")\n",
    "    print(f\"\\n\\nPredicted life expectancy is: \\n\\n{prediction:.2f}\")"
   ]
  },
  {
   "cell_type": "code",
   "execution_count": 71,
   "id": "1c48fa22-f186-4ef6-89b9-0466472c36cf",
   "metadata": {},
   "outputs": [
    {
     "name": "stdin",
     "output_type": "stream",
     "text": [
      "Select the model you want to use:\n",
      "  1: Precise\n",
      "  2: Minimalistic\n",
      " 4.5\n"
     ]
    },
    {
     "name": "stdout",
     "output_type": "stream",
     "text": [
      "Must be a number between 1 and 2.\n"
     ]
    },
    {
     "name": "stdin",
     "output_type": "stream",
     "text": [
      "Select the model you want to use:\n",
      "  1: Precise\n",
      "  2: Minimalistic\n",
      " 100.072\n"
     ]
    },
    {
     "name": "stdout",
     "output_type": "stream",
     "text": [
      "Must be a number between 1 and 2.\n"
     ]
    },
    {
     "name": "stdin",
     "output_type": "stream",
     "text": [
      "Select the model you want to use:\n",
      "  1: Precise\n",
      "  2: Minimalistic\n",
      " 1\n"
     ]
    },
    {
     "name": "stdout",
     "output_type": "stream",
     "text": [
      "***** Precise Model ***** \n",
      "\n",
      "\n",
      "\n"
     ]
    },
    {
     "name": "stdin",
     "output_type": "stream",
     "text": [
      "Under five deaths (Number of under-five deaths per 1000 population)\n",
      "  4.5\n",
      "Adult mortality (Probability of dying between 15 and 60 years per 1000 population)\n",
      "  100.072\n",
      "BMI (Average Body Mass Index of entire population)\n",
      "  25.6\n",
      "Schooling (Number of years of Schooling(years)):\n",
      "  10.3\n",
      "Incidents of HIV (Deaths per 1,000 live births HIV/AIDS (0-4 years))\n",
      "  0.06\n",
      "GDP per capita (Gross Domestic Product per capita (in USD))\n",
      "$  92528\n",
      "Select a region for:\n",
      "  1: Asia\n",
      "  2: Central America and Caribbean\n",
      "  3: European Union\n",
      "  4: Middle East\n",
      "  5: North America\n",
      "  6: Oceania\n",
      "  7: Rest of Europe\n",
      "  8: South America\n",
      "  3\n"
     ]
    },
    {
     "name": "stdout",
     "output_type": "stream",
     "text": [
      "Your responses are: \n",
      " {'Under_five_deaths': 4.5, 'Adult_mortality': 100.072, 'BMI': 25.6, 'Schooling': 10.3, 'Incidents_HIV_log': 0.06, 'GDP_per_capita_log': 92528.0, 'Region_European Union': 1}\n",
      "\n",
      "\n",
      "Predicted life expectancy is: \n",
      "\n",
      "79.08\n"
     ]
    }
   ],
   "source": [
    "data = app()\n",
    "data"
   ]
  },
  {
   "cell_type": "code",
   "execution_count": 40,
   "id": "7bfe8876-a963-476d-aa38-cc4f86783d5f",
   "metadata": {},
   "outputs": [],
   "source": [
    "# responses = {'R_European Union': 1, 'Under_five_deaths': 4.5, 'Adult_mortality': 100.072, 'BMI': 25.6, 'Schooling': 10.3,'Incidents_HIV_log': 0.06,'GDP_per_capita_log': 92528  }\n",
    "#prediction should be: 79.075403-- on precise "
   ]
  }
 ],
 "metadata": {
  "kernelspec": {
   "display_name": "Python 3 (ipykernel)",
   "language": "python",
   "name": "python3"
  },
  "language_info": {
   "codemirror_mode": {
    "name": "ipython",
    "version": 3
   },
   "file_extension": ".py",
   "mimetype": "text/x-python",
   "name": "python",
   "nbconvert_exporter": "python",
   "pygments_lexer": "ipython3",
   "version": "3.12.7"
  }
 },
 "nbformat": 4,
 "nbformat_minor": 5
}
