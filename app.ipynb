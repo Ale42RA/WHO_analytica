{
 "cells": [
  {
   "cell_type": "markdown",
   "id": "3671b5fc-61e7-453b-8329-49a5489ce005",
   "metadata": {
    "jp-MarkdownHeadingCollapsed": true
   },
   "source": [
    "## Imports"
   ]
  },
  {
   "cell_type": "code",
   "execution_count": 63,
   "id": "e80f8c00-89c5-4edb-a37c-0ccba4e7d86b",
   "metadata": {},
   "outputs": [],
   "source": [
    "import numpy as np #for logging GDP and HIV\n",
    "from sklearn.preprocessing import MinMaxScaler, RobustScaler, StandardScaler #To scaler results\n",
    "import pandas as pd  #df transformation for scaler\n",
    "import joblib #To import pickle of scaler"
   ]
  },
  {
   "cell_type": "markdown",
   "id": "5fb06b0f-794c-4e4e-9a25-7eeb4c6e1f09",
   "metadata": {
    "jp-MarkdownHeadingCollapsed": true
   },
   "source": [
    "# Helper Function"
   ]
  },
  {
   "cell_type": "markdown",
   "id": "0aa189f6-1c0c-4b0e-bff7-4fae7cb0425c",
   "metadata": {},
   "source": [
    "Functions to help map, validate the input from the question prompts "
   ]
  },
  {
   "cell_type": "markdown",
   "id": "ddacff9e-90b8-4cf4-8672-517f7ba80fb5",
   "metadata": {
    "jp-MarkdownHeadingCollapsed": true
   },
   "source": [
    "## Mapping Functions"
   ]
  },
  {
   "cell_type": "code",
   "execution_count": 68,
   "id": "a27a8755-9919-47be-a240-16b55214e63b",
   "metadata": {},
   "outputs": [],
   "source": [
    "#map values from the question selection 1-8 to the appropiateley named Region_ \n",
    "def map_region(value):\n",
    "    if value == 1:\n",
    "        name = 'Region_Asia'\n",
    "    elif value == 2:\n",
    "        name = 'Region_Central America and Caribbean'\n",
    "    elif value == 3:\n",
    "        name = 'Region_European Union'\n",
    "    elif value == 4:\n",
    "        name = 'Region_Middle East'\n",
    "    elif value == 5:\n",
    "        name = 'Region_North America'\n",
    "    elif value == 6:\n",
    "        name = 'Region_Oceania'\n",
    "    elif value == 7:\n",
    "        name = 'Region_Rest of Europe'\n",
    "    elif value == 8:\n",
    "        name = 'Region_South America'\n",
    "    return name"
   ]
  },
  {
   "cell_type": "markdown",
   "id": "bf6e9ce1-7db7-4ee9-a9a5-14a2c13eeecb",
   "metadata": {
    "jp-MarkdownHeadingCollapsed": true
   },
   "source": [
    "## Validation Functions"
   ]
  },
  {
   "cell_type": "code",
   "execution_count": 71,
   "id": "b6e88505-21d1-47bf-9b37-82fc1a6ecbb9",
   "metadata": {},
   "outputs": [],
   "source": [
    "# input_value: input response from question prompts\n",
    "# tries to cast input_value as a float, checks if positive. If an exception is raised asks that the Value be positive number \n",
    "def validate_positive_float(input_value):\n",
    "    try:\n",
    "        value = float(input_value)\n",
    "        assert value > 0  #checks that the value is positive\n",
    "        return value\n",
    "    except (ValueError, #error if cannot be turned to float()\n",
    "            AssertionError): #error if assertion cannot be done\n",
    "        raise ValueError(f\"Must be a positive number.\") #message to be sent sepecifying a positive number is needed\n",
    "\n",
    "\n",
    "# input_value: input response from question prompts\n",
    "# minv : lower bound (default 0)\n",
    "# maxv : upper bound (deafult 100000)\n",
    "# Checks that a value is numeric, and that it falls within the specified bounds (inclusive)\n",
    "def validate_ranged(input_value, minv=0, maxv=100000):\n",
    "    try:\n",
    "        value = float(input_value)\n",
    "        assert minv <= value <= maxv  #check that teh value is between bounds (inclusive)\n",
    "        return value\n",
    "    except (ValueError, #error if cannot be turned to float()\n",
    "            AssertionError): #error if assertion cannot be done\n",
    "        raise ValueError(f\"Must be a number between {minv} and {maxv}.\") #message to be sent sepecifying that the number must be bounded \n",
    "\n",
    "# input_value: input response from question prompts\n",
    "#calls for a ranged validation with the min BMI 1 and max BMI 40\n",
    "def validate_bmi(input_value):\n",
    "    return validate_ranged(input_value, 1, 40)\n",
    "    \n",
    "# input_value: input response from question prompts\n",
    "# calls for a ranged validation with the min REGION 1 and max 8\n",
    "# if no exception raised, maps the validated int response to the correct parameter name for that Region \n",
    "# parameter name based on OHE split\n",
    "def validate_region(input_value):\n",
    "    enc_map = int(validate_ranged(input_value, 1, 8))\n",
    "    return map_region(enc_map)\n",
    "\n",
    "# input_value: input response from question prompts\n",
    "# calls for a ranged validation with the min SCHOOL 0 and max 20    \n",
    "def validate_school(input_value):\n",
    "    return validate_ranged(input_value, 0, 20)\n"
   ]
  },
  {
   "cell_type": "markdown",
   "id": "a12fd2ae-bcce-4b32-92a8-f7aac18725c3",
   "metadata": {
    "jp-MarkdownHeadingCollapsed": true
   },
   "source": [
    "## Scale the inputs into the dimmensions used for the coefficients in the trained model"
   ]
  },
  {
   "cell_type": "code",
   "execution_count": 74,
   "id": "4a74038b-5169-440e-86ab-876ad813029a",
   "metadata": {},
   "outputs": [],
   "source": [
    "# responses: validated and mapped responses from question prompt\n",
    "# from imported scalers, scaled the input data to match the scale with the coefficients \n",
    "# logs the appropriate data parameters IF in responses\n",
    "# returns dictionary of transformed values\n",
    "def scale_responses(responses):\n",
    "    responses = pd.DataFrame.from_dict([responses]) #convert to data frame for easier application \n",
    "    \n",
    "    if 'Incidents_HIV_log' in responses: #check that the responses has HIV as an answer\n",
    "        responses['Incidents_HIV_log'] = np.log(responses['Incidents_HIV_log'])\n",
    "    if 'GDP_per_capita_log' in responses:#check that the responses has GDP as an answer\n",
    "        responses['GDP_per_capita_log'] = np.log(responses['GDP_per_capita_log'])\n",
    "\n",
    "    # load the scalers from scr. Scalers are the ones fitted to the Train\n",
    "    # scalers are individualised in fitting, so they are individualised in transform since they all are fitted independet of other features\n",
    "    standard_scaler_bmi = joblib.load('scr/standard_scaler_bmi.pkl')\n",
    "    standard_scaler_schooling = joblib.load('scr/standard_scaler_schooling.pkl')\n",
    "    minmax_scaler_gdp = joblib.load('scr/minmax_scaler_gdp.pkl')\n",
    "    minmax_scaler_hiv = joblib.load('scr/minmax_scaler_hiv.pkl')\n",
    "    robust_scaler_under_five = joblib.load('scr/robust_scaler_under_five.pkl')\n",
    "    robust_scaler_adult_mortality = joblib.load('scr/robust_scaler_adult_mortality.pkl')\n",
    "\n",
    "    #IF statements check if the feature is in the responses data frame, since minimal model would not have all of these. \n",
    "    #If TRUE applies the correct scaler transformation model imported\n",
    "\n",
    "    # standard scalers\n",
    "    if 'BMI' in responses:\n",
    "        responses['BMI'] = standard_scaler_bmi.transform(responses[['BMI']]) \n",
    "    if 'Schooling' in responses:\n",
    "        responses['Schooling'] = standard_scaler_schooling.transform(responses[['Schooling']])  \n",
    "\n",
    "     # minmax scalers\n",
    "    if 'GDP_per_capita_log' in responses:\n",
    "        responses['GDP_per_capita_log'] = minmax_scaler_gdp.transform(responses[['GDP_per_capita_log']])  \n",
    "    if 'Incidents_HIV_log' in responses:\n",
    "        responses['Incidents_HIV_log'] = minmax_scaler_hiv.transform(responses[['Incidents_HIV_log']])  \n",
    "\n",
    "    # robust scalers\n",
    "    if 'Under_five_deaths' in responses:\n",
    "        responses['Under_five_deaths'] = robust_scaler_under_five.transform(responses[['Under_five_deaths']]) \n",
    "    if 'Adult_mortality' in responses:\n",
    "        responses['Adult_mortality'] = robust_scaler_adult_mortality.transform(responses[['Adult_mortality']]) \n",
    "\n",
    "    #convert 1 row back into a dictionary\n",
    "    scaled = responses.squeeze().to_dict()\n",
    "   \n",
    "    return scaled  "
   ]
  },
  {
   "cell_type": "markdown",
   "id": "6366bbf2-11d7-4c3f-9b18-0dd162ebd122",
   "metadata": {
    "jp-MarkdownHeadingCollapsed": true
   },
   "source": [
    "# Model \n",
    "Dictionary holding each model's coefficient and the correct parameter name to link back to the question responses. "
   ]
  },
  {
   "cell_type": "code",
   "execution_count": 77,
   "id": "30acc6a3-e84b-4b29-8f38-2c1fa26d9968",
   "metadata": {},
   "outputs": [],
   "source": [
    "##Model 1: Precise model coefficients and constant\n",
    "model_1_params = {\n",
    "    'const': 69.21197568956534, \n",
    "    'Under_five_deaths': -4.182220994190924, \n",
    "    'Adult_mortality': -6.24779898044286, \n",
    "    'BMI': -0.5529768222701559, \n",
    "    'Schooling': 0.54699705573051, \n",
    "    'GDP_per_capita_log': 5.062474585988401, \n",
    "    'Incidents_HIV_log': -1.2380416175750413, \n",
    "    'Region_Asia': -0.258756248647668, \n",
    "    'Region_Central America and Caribbean': 1.513269339213396, \n",
    "    'Region_European Union': 0.7187216306389358, \n",
    "    'Region_Middle East': -0.22551325872249164, \n",
    "    'Region_North America': 1.427932115236103, \n",
    "    'Region_Oceania': -0.7937502455802756, \n",
    "    'Region_Rest of Europe': 0.3350217991614595, \n",
    "    'Region_South America': 1.0844795471719326\n",
    "}  \n",
    "\n",
    "##Model 2: Minimal model coefficients and constant\n",
    "model_2_params = {\n",
    "    'const': 72.1525761376697, \n",
    "    'Under_five_deaths': -5.494643384419958, \n",
    "    'Adult_mortality': -6.658005120051611, \n",
    "    'BMI': -0.13039081436056832\n",
    "}"
   ]
  },
  {
   "cell_type": "markdown",
   "id": "a4ae241b-edfd-4413-9d0a-95b6cbb401c5",
   "metadata": {
    "jp-MarkdownHeadingCollapsed": true
   },
   "source": [
    "# Model Computation \n",
    "\n",
    "Takes validated, mapped and scaled responses and applied the  linear formula to it. At this point our responses dictionary will map 1 to 1 with each key name and model_x_param key name\n",
    "\n",
    "$$ y = b_0 + x_1 b_1 + \\dots + x_n b_n $$"
   ]
  },
  {
   "cell_type": "code",
   "execution_count": 80,
   "id": "bba19f76-c9bf-48eb-80f3-0c7ae1e46c33",
   "metadata": {},
   "outputs": [],
   "source": [
    "#responses: dictionary of user responses mapping a transformed value to the same key as the model_params\n",
    "#model_params: the selected model coefficient params\n",
    "def compute_prediction(responses, model_params):\n",
    "    prediction = model_params['const'] #add the constant value b0\n",
    "    \n",
    "    for feature, value in responses.items(): #iterate through each key_name and value\n",
    "        if feature in model_params: #find the matching model_params\n",
    "            prediction += model_params[feature] * value # add the multiplication of x (the user response) and b(the model coefficient)\n",
    "    \n",
    "    return prediction #return y \n",
    "    "
   ]
  },
  {
   "cell_type": "markdown",
   "id": "43b68c13-6ff7-4d1e-bdfe-5b148500d875",
   "metadata": {
    "jp-MarkdownHeadingCollapsed": true
   },
   "source": [
    "# Interface"
   ]
  },
  {
   "cell_type": "markdown",
   "id": "d35da031-56d0-45fe-8c91-575fbf15c764",
   "metadata": {
    "jp-MarkdownHeadingCollapsed": true
   },
   "source": [
    "## Questions to ask \n",
    "\n",
    "Depending on model, they have a series of questions that will be asked. \n",
    "The array is an array of tuples. \n",
    "\n",
    "* $array[i][0]$: string : Question that will be asked, specifying conditions of input\n",
    "* $array[i][1]$: function : Validation funtion this question will need to check that the input is correct\n",
    "* $array[i][2]$: string : Parameter name in the coefficient model list to match\n",
    "    * There is an exception with region, but this will be mapped later on and the name adjusted to match Region_* "
   ]
  },
  {
   "cell_type": "code",
   "execution_count": 83,
   "id": "a6bc3039-0be3-4144-b4b2-998e0397df41",
   "metadata": {},
   "outputs": [],
   "source": [
    "#questions for the precise model \n",
    "def get_precise_question_and_validation():\n",
    "    precise_qv = [       \n",
    "        (\"Under five deaths (Number of under-five deaths per 1000 population)\\n\",\n",
    "             validate_positive_float,\n",
    "            \"Under_five_deaths\"\n",
    "        ),\n",
    "        (\"Adult mortality (Probability of dying between 15 and 60 years per 1000 population)\\n\", \n",
    "             validate_positive_float,\n",
    "             \"Adult_mortality\",\n",
    "        ),\n",
    "        (\"BMI (Average Body Mass Index of entire population)\\n\", \n",
    "             validate_bmi,\n",
    "            \"BMI\"\n",
    "        ),\n",
    "        (\"Schooling (Number of years of Schooling(years)):\\n\", \n",
    "             validate_school,\n",
    "                \"Schooling\"\n",
    "        ),\n",
    "        (\"Incidents of HIV (Deaths per 1,000 live births HIV/AIDS (0-4 years))\\n\", \n",
    "             validate_positive_float,\n",
    "            \"Incidents_HIV_log\"),\n",
    "        (\"GDP per capita (Gross Domestic Product per capita (in USD))\\n$\", \n",
    "             validate_positive_float,\n",
    "        \"GDP_per_capita_log\"),\n",
    "        (\n",
    "            \"Select a region for:\\n\"\n",
    "            \"  1: Asia\\n\"\n",
    "            \"  2: Central America and Caribbean\\n\"\n",
    "            \"  3: European Union\\n\"\n",
    "            \"  4: Middle East\\n\"\n",
    "            \"  5: North America\\n\"\n",
    "            \"  6: Oceania\\n\"\n",
    "            \"  7: Rest of Europe\\n\"\n",
    "            \"  8: South America\\n\",\n",
    "            validate_region,\n",
    "            \"Region\"\n",
    "        )\n",
    "    ]\n",
    "    return precise_qv #array of tuples"
   ]
  },
  {
   "cell_type": "code",
   "execution_count": 85,
   "id": "4cb769d8-60e4-4aa7-9014-ce4e99770bd7",
   "metadata": {},
   "outputs": [],
   "source": [
    "#questions for the minimal model \n",
    "def get_minimal_question_and_validation():\n",
    "    minimal_qv = [       \n",
    "        (\"Under five deaths (Number of under-five deaths per 1000 population)\\n\",\n",
    "             validate_positive_float,\n",
    "            \"Under_five_deaths\"\n",
    "        ),\n",
    "        (\"Adult mortality (Probability of dying between 15 and 60 years per 1000 population)\\n\", \n",
    "             validate_positive_float,\n",
    "             \"Adult_mortality\",\n",
    "        ),\n",
    "        (\"BMI (Average Body Mass Index of entire population)\\n\", \n",
    "             validate_bmi,\n",
    "            \"BMI\"\n",
    "        )\n",
    "    ] \n",
    "    return minimal_qv #array of tuples"
   ]
  },
  {
   "cell_type": "markdown",
   "id": "dfa5b413-10ca-49ff-aabd-8e467842ce70",
   "metadata": {
    "jp-MarkdownHeadingCollapsed": true
   },
   "source": [
    "## Logic "
   ]
  },
  {
   "cell_type": "code",
   "execution_count": 88,
   "id": "e44ad304-2049-4672-a6d9-25e4b77cfaf4",
   "metadata": {},
   "outputs": [],
   "source": [
    "# First prompt asked, selection of model. This will affect the questions asked and determine the model used to calculate the life expectancy\n",
    "def get_model_wanted():\n",
    "    while True: #Will keep trying until a response is succesful \n",
    "        try:\n",
    "            #question to be asked, select from 1 or 2\n",
    "            response = input(    \n",
    "                \"Select the model you want to use:\\n\"\n",
    "                \"  1: Precise\\n\"\n",
    "                \"  2: Minimalistic\\n\"\n",
    "            )\n",
    "            validated_response = validate_ranged(response, 1, 2) #check that the user response is a number within the 1 2 selection \n",
    "            break #succesful response, exit the loop\n",
    "        except ValueError as e: #error raised, print the error. \n",
    "                print(e)\n",
    "    return int(response) #cast response"
   ]
  },
  {
   "cell_type": "code",
   "execution_count": 90,
   "id": "cadc705d-fa65-4498-b016-fb7b91b628e2",
   "metadata": {},
   "outputs": [],
   "source": [
    "#main application \n",
    "def app():\n",
    "    model_chosed = get_model_wanted() #prompt for a model selection, get value 1 or 2\n",
    "    if model_chosed == 1: #precise model selected\n",
    "        print(\"***** Precise Model ***** \\n\\n\\n\") #print user feedback to verify choice\n",
    "        questions_and_validators = get_precise_question_and_validation() #gather the questions and validators that precise model needs\n",
    "        model_param = model_1_params #assign model parameters to be for precise model\n",
    "    else: #same as above but for minimalistic model\n",
    "        print(\"***** Minimalistic Model *****\\n\\n\\n\")\n",
    "        questions_and_validators = get_minimal_question_and_validation()\n",
    "        model_param = model_2_params\n",
    "    \n",
    "    responses = {} #initialise response dictionary\n",
    "    for question, validator, name in questions_and_validators: #iterate through each tuple in the array \n",
    "        while True:# try until we get a successful response\n",
    "            try:\n",
    "                response = input(f\"{question} \") #output question \n",
    "                validated_response = validator(response) #use validation on response\n",
    "                if name == 'Region': #if we are asking about region map then map the region and assign value as 1 \n",
    "                    responses[validated_response] = 1 #OHE maps as true or not, so value will always be one\n",
    "                else:\n",
    "                    responses[name] = validated_response\n",
    "                \n",
    "                break #succesfull response, break the loop and to next iteration \n",
    "            except ValueError as e: #raise error if any value errors raised during validation \n",
    "                print(e)\n",
    "\n",
    "    scaled_responses = scale_responses(responses) #scale the responses \n",
    "    prediction = compute_prediction(scaled_responses, model_param) #execute the prediction model \n",
    "    \n",
    "    print(f\"Your responses are: \\n {responses}\") #feedback to verify correct gathering of responses\n",
    "    print(f\"\\n\\nPredicted life expectancy is: \\n\\n{prediction:.2f}\") #output computated life expectancy to 2 dp "
   ]
  },
  {
   "cell_type": "markdown",
   "id": "b55e84d6-a050-4056-bcd1-596038f5e6cc",
   "metadata": {},
   "source": [
    "# Application "
   ]
  },
  {
   "cell_type": "code",
   "execution_count": null,
   "id": "1c48fa22-f186-4ef6-89b9-0466472c36cf",
   "metadata": {},
   "outputs": [],
   "source": [
    "data = app() #run app "
   ]
  },
  {
   "cell_type": "markdown",
   "id": "f7ef012b-e357-4494-a661-4de14834c934",
   "metadata": {
    "jp-MarkdownHeadingCollapsed": true
   },
   "source": [
    "## Test "
   ]
  },
  {
   "cell_type": "code",
   "execution_count": 40,
   "id": "7bfe8876-a963-476d-aa38-cc4f86783d5f",
   "metadata": {},
   "outputs": [],
   "source": [
    "# responses = {'R_European Union': 1, 'Under_five_deaths': 4.5, 'Adult_mortality': 100.072, 'BMI': 25.6, 'Schooling': 10.3,'Incidents_HIV_log': 0.06,'GDP_per_capita_log': 92528  }\n",
    "#prediction should be: 79.075403-- on precise "
   ]
  }
 ],
 "metadata": {
  "kernelspec": {
   "display_name": "Python 3 (ipykernel)",
   "language": "python",
   "name": "python3"
  },
  "language_info": {
   "codemirror_mode": {
    "name": "ipython",
    "version": 3
   },
   "file_extension": ".py",
   "mimetype": "text/x-python",
   "name": "python",
   "nbconvert_exporter": "python",
   "pygments_lexer": "ipython3",
   "version": "3.12.7"
  }
 },
 "nbformat": 4,
 "nbformat_minor": 5
}
