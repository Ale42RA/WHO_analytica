{
 "cells": [
  {
   "cell_type": "markdown",
   "id": "3671b5fc-61e7-453b-8329-49a5489ce005",
   "metadata": {},
   "source": [
    "## Imports"
   ]
  },
  {
   "cell_type": "code",
   "execution_count": 2,
   "id": "e80f8c00-89c5-4edb-a37c-0ccba4e7d86b",
   "metadata": {},
   "outputs": [],
   "source": [
    "import numpy as np #for logging GDP and HIV\n",
    "from sklearn.preprocessing import MinMaxScaler, RobustScaler, StandardScaler #To scaler results\n",
    "import pandas as pd  #df transformation for scaler"
   ]
  },
  {
   "cell_type": "markdown",
   "id": "5fb06b0f-794c-4e4e-9a25-7eeb4c6e1f09",
   "metadata": {},
   "source": [
    "# Helper Function"
   ]
  },
  {
   "cell_type": "markdown",
   "id": "0aa189f6-1c0c-4b0e-bff7-4fae7cb0425c",
   "metadata": {},
   "source": [
    "Functions to help map, validate the input from the question prompts "
   ]
  },
  {
   "cell_type": "markdown",
   "id": "ddacff9e-90b8-4cf4-8672-517f7ba80fb5",
   "metadata": {},
   "source": [
    "## Mapping Functions"
   ]
  },
  {
   "cell_type": "code",
   "execution_count": 7,
   "id": "a27a8755-9919-47be-a240-16b55214e63b",
   "metadata": {},
   "outputs": [],
   "source": [
    "#map values from the question selection 1-8 to the appropiateley named Region_ \n",
    "def map_region(value):\n",
    "    if value == 1:\n",
    "        name = 'Region_Asia'\n",
    "    elif value == 2:\n",
    "        name = 'Region_Central America and Caribbean'\n",
    "    elif value == 3:\n",
    "        name = 'Region_European Union'\n",
    "    elif value == 4:\n",
    "        name = 'Region_Middle East'\n",
    "    elif value == 5:\n",
    "        name = 'Region_North America'\n",
    "    elif value == 6:\n",
    "        name = 'Region_Oceania'\n",
    "    elif value == 7:\n",
    "        name = 'Region_Rest of Europe'\n",
    "    elif value == 8:\n",
    "        name = 'Region_South America'\n",
    "    return name"
   ]
  },
  {
   "cell_type": "markdown",
   "id": "bf6e9ce1-7db7-4ee9-a9a5-14a2c13eeecb",
   "metadata": {},
   "source": [
    "## Validation Functions"
   ]
  },
  {
   "cell_type": "code",
   "execution_count": 10,
   "id": "b6e88505-21d1-47bf-9b37-82fc1a6ecbb9",
   "metadata": {},
   "outputs": [],
   "source": [
    "# input_value: input response from question prompts\n",
    "# tries to cast input_value as a float, checks if positive. If an exception is raised asks that the Value be positive number \n",
    "def validate_positive_float(input_value):\n",
    "    try:\n",
    "        value = float(input_value)\n",
    "        assert value > 0  #checks that the value is positive\n",
    "        return value\n",
    "    except (ValueError, #error if cannot be turned to float()\n",
    "            AssertionError): #error if assertion cannot be done\n",
    "        raise ValueError(f\"Must be a positive number.\") #message to be sent sepecifying a positive number is needed\n",
    "\n",
    "\n",
    "# input_value: input response from question prompts\n",
    "# minv : lower bound (default 0)\n",
    "# maxv : upper bound (deafult 100000)\n",
    "# Checks that a value is numeric, and that it falls within the specified bounds (inclusive)\n",
    "def validate_ranged(input_value, minv=0, maxv=100000):\n",
    "    try:\n",
    "        value = float(input_value)\n",
    "        assert minv <= value <= maxv  #check that teh value is between bounds (inclusive)\n",
    "        return value\n",
    "    except (ValueError, #error if cannot be turned to float()\n",
    "            AssertionError): #error if assertion cannot be done\n",
    "        raise ValueError(f\"Must be a number between {minv} and {maxv}.\") #message to be sent sepecifying that the number must be bounded \n",
    "\n",
    "# input_value: input response from question prompts\n",
    "#calls for a ranged validation with the min BMI 1 and max BMI 40\n",
    "def validate_bmi(input_value):\n",
    "    return validate_ranged(input_value, 1, 40)\n",
    "    \n",
    "# input_value: input response from question prompts\n",
    "# calls for a ranged validation with the min REGION 1 and max 8\n",
    "# if no exception raised, maps the validated int response to the correct parameter name for that Region \n",
    "# parameter name based on OHE split\n",
    "def validate_region(input_value):\n",
    "    enc_map = int(validate_ranged(input_value, 1, 8))\n",
    "    return map_region(enc_map)\n",
    "\n",
    "# input_value: input response from question prompts\n",
    "# calls for a ranged validation with the min SCHOOL 0 and max 20    \n",
    "def validate_school(input_value):\n",
    "    return validate_ranged(input_value, 0, 20)\n",
    "\n",
    "# input_value: input response from question prompts\n",
    "def validate_consent(input_value):\n",
    "    try:\n",
    "        lowered_in = str(input_value).strip().lower()   #lower input to verify case insensitive\n",
    "        if lowered_in == \"y\": #consent is given for precise model \n",
    "            return True\n",
    "        elif lowered_in == \"n\": #use minimal model \n",
    "            return False\n",
    "        else:\n",
    "            raise ValueError(\"Please enter 'y' or 'n'\")\n",
    "    except AttributeError:\n",
    "        raise ValueError(\"Please input text\") \n",
    "    \n"
   ]
  },
  {
   "cell_type": "markdown",
   "id": "a12fd2ae-bcce-4b32-92a8-f7aac18725c3",
   "metadata": {},
   "source": [
    "## Feature engineering"
   ]
  },
  {
   "cell_type": "code",
   "execution_count": 35,
   "id": "212ca026-1e53-4fdb-bb99-d0c8f7f0c397",
   "metadata": {},
   "outputs": [],
   "source": [
    " #run feature engineering to get the scalers \n",
    "from IPython.utils.io import capture_output #liprary to supress print statements \n",
    "with capture_output() as captured: #capture any log output (print statements)\n",
    "    %run ./fe_analytica.ipynb #run the feature engineering noteboook"
   ]
  },
  {
   "cell_type": "code",
   "execution_count": 36,
   "id": "4a74038b-5169-440e-86ab-876ad813029a",
   "metadata": {},
   "outputs": [],
   "source": [
    "# responses: validated and mapped responses from question prompt\n",
    "# from imported scalers, scaled the input data to match the scale with the coefficients \n",
    "# logs the appropriate data parameters IF in responses\n",
    "# returns dictionary of transformed values\n",
    "def scale_responses(responses):\n",
    "    responses = pd.DataFrame.from_dict([responses]) #convert to data frame for easier application \n",
    "\n",
    "   \n",
    "    \n",
    "    if 'Incidents_HIV_log' in responses: #check that the responses has HIV as an answer\n",
    "        responses['Incidents_HIV_log'] = np.log(responses['Incidents_HIV_log'])\n",
    "    if 'GDP_per_capita_log' in responses:#check that the responses has GDP as an answer\n",
    "        responses['GDP_per_capita_log'] = np.log(responses['GDP_per_capita_log'])\n",
    "\n",
    "\n",
    "    #IF statements check if the feature is in the responses data frame, since minimal model would not have all of these. \n",
    "    #If TRUE applies the correct scaler transformation model imported\n",
    "\n",
    "    # standard scalers\n",
    "    if 'BMI' in responses:\n",
    "        responses['BMI'] = standard_scaler_bmi.transform(responses[['BMI']]) \n",
    "    if 'Schooling' in responses:\n",
    "        responses['Schooling'] = standard_scaler_schooling.transform(responses[['Schooling']])  \n",
    "\n",
    "     # minmax scalers\n",
    "    if 'GDP_per_capita_log' in responses:\n",
    "        responses['GDP_per_capita_log'] = minmax_scaler_gdp.transform(responses[['GDP_per_capita_log']])  \n",
    "    if 'Incidents_HIV_log' in responses:\n",
    "        responses['Incidents_HIV_log'] = minmax_scaler_hiv.transform(responses[['Incidents_HIV_log']])  \n",
    "\n",
    "    # robust scalers\n",
    "    if 'Under_five_deaths' in responses:\n",
    "        responses['Under_five_deaths'] = robust_scaler_under_five.transform(responses[['Under_five_deaths']]) \n",
    "    if 'Adult_mortality' in responses:\n",
    "        responses['Adult_mortality'] = robust_scaler_adult_mortality.transform(responses[['Adult_mortality']]) \n",
    "\n",
    "    #convert 1 row back into a dictionary\n",
    "    scaled = responses.squeeze().to_dict()\n",
    "   \n",
    "    return scaled  "
   ]
  },
  {
   "cell_type": "markdown",
   "id": "6366bbf2-11d7-4c3f-9b18-0dd162ebd122",
   "metadata": {},
   "source": [
    "# Model \n",
    "Dictionary holding each model's coefficient and the correct parameter name to link back to the question responses. "
   ]
  },
  {
   "cell_type": "code",
   "execution_count": 40,
   "id": "30acc6a3-e84b-4b29-8f38-2c1fa26d9968",
   "metadata": {},
   "outputs": [],
   "source": [
    "##Model 1: Precise model coefficients and constant\n",
    "model_1_params = {\n",
    "    'const': 69.21197568956534, \n",
    "    'Under_five_deaths': -4.1822209941909385, \n",
    "    'Adult_mortality': -6.247798980442863, \n",
    "    'BMI': -0.5529768222701575, \n",
    "    'Schooling': 0.5469970557304903, \n",
    "    'Region_Asia': -0.2587562486476594, \n",
    "    'Region_Central America and Caribbean': 1.5132693392133942, \n",
    "    'Region_European Union': 0.718721630638919, \n",
    "    'Region_Middle East': -0.22551325872249203, \n",
    "    'Region_North America': 1.4279321152360975, \n",
    "    'Region_Oceania': -0.7937502455802756, \n",
    "    'Region_Rest of Europe': 0.3350217991614541, \n",
    "    'Region_South America': 1.0844795471719362, \n",
    "    'Incidents_HIV_log': -1.2380416175750373, \n",
    "    'GDP_per_capita_log': 5.0624745859883316\n",
    "}\n",
    "\n",
    "\n",
    "##Model 2: Minimal model coefficients and constant\n",
    "model_2_params = {\n",
    "    'const': 72.1525761376697, \n",
    "    'Under_five_deaths': -5.494643384419958, \n",
    "    'Adult_mortality': -6.658005120051611, \n",
    "    'BMI': -0.13039081436056832\n",
    "}"
   ]
  },
  {
   "cell_type": "markdown",
   "id": "a4ae241b-edfd-4413-9d0a-95b6cbb401c5",
   "metadata": {},
   "source": [
    "# Model Computation \n",
    "\n",
    "Takes validated, mapped and scaled responses and applied the  linear formula to it. At this point our responses dictionary will map 1 to 1 with each key name and model_x_param key name\n",
    "\n",
    "$$ y = b_0 + x_1 b_1 + \\dots + x_n b_n $$"
   ]
  },
  {
   "cell_type": "code",
   "execution_count": 43,
   "id": "bba19f76-c9bf-48eb-80f3-0c7ae1e46c33",
   "metadata": {},
   "outputs": [],
   "source": [
    "#responses: dictionary of user responses mapping a transformed value to the same key as the model_params\n",
    "#model_params: the selected model coefficient params\n",
    "def compute_prediction(responses, model_params):\n",
    "    prediction = model_params['const'] #add the constant value b0\n",
    "    \n",
    "    for feature, value in responses.items(): #iterate through each key_name and value\n",
    "        if feature in model_params: #find the matching model_params\n",
    "            prediction += model_params[feature] * value # add the multiplication of x (the user response) and b(the model coefficient)\n",
    "    \n",
    "    return prediction #return y \n",
    "    "
   ]
  },
  {
   "cell_type": "markdown",
   "id": "43b68c13-6ff7-4d1e-bdfe-5b148500d875",
   "metadata": {},
   "source": [
    "# Interface"
   ]
  },
  {
   "cell_type": "markdown",
   "id": "d35da031-56d0-45fe-8c91-575fbf15c764",
   "metadata": {},
   "source": [
    "## Questions to ask \n",
    "\n",
    "Depending on model, they have a series of questions that will be asked. \n",
    "The array is an array of tuples. \n",
    "\n",
    "* $array[i][0]$: string : Question that will be asked, specifying conditions of input\n",
    "* $array[i][1]$: function : Validation funtion this question will need to check that the input is correct\n",
    "* $array[i][2]$: string : Parameter name in the coefficient model list to match\n",
    "    * There is an exception with region, but this will be mapped later on and the name adjusted to match Region_* "
   ]
  },
  {
   "cell_type": "code",
   "execution_count": 47,
   "id": "a6bc3039-0be3-4144-b4b2-998e0397df41",
   "metadata": {},
   "outputs": [],
   "source": [
    "#questions for the precise model \n",
    "def get_precise_question_and_validation():\n",
    "    precise_qv = [       \n",
    "        (\"Under five deaths (Number of under-five deaths per 1000 population)\\n\",\n",
    "             validate_positive_float,\n",
    "            \"Under_five_deaths\"\n",
    "        ),\n",
    "        (\"Adult mortality (Probability of dying between 15 and 60 years per 1000 population)\\n\", \n",
    "             validate_positive_float,\n",
    "             \"Adult_mortality\",\n",
    "        ),\n",
    "        (\"BMI (Average Body Mass Index of entire population)\\n\", \n",
    "             validate_bmi,\n",
    "            \"BMI\"\n",
    "        ),\n",
    "        (\"Schooling (Number of years of Schooling(years)):\\n\", \n",
    "             validate_school,\n",
    "                \"Schooling\"\n",
    "        ),\n",
    "        (\"Incidents of HIV (Deaths per 1,000 live births HIV/AIDS (0-4 years))\\n\", \n",
    "             validate_positive_float,\n",
    "            \"Incidents_HIV_log\"),\n",
    "        (\"GDP per capita (Gross Domestic Product per capita (in USD))\\n$\", \n",
    "             validate_positive_float,\n",
    "        \"GDP_per_capita_log\"),\n",
    "        (\n",
    "            \"Select a region for:\\n\"\n",
    "            \"  1: Asia\\n\"\n",
    "            \"  2: Central America and Caribbean\\n\"\n",
    "            \"  3: European Union\\n\"\n",
    "            \"  4: Middle East\\n\"\n",
    "            \"  5: North America\\n\"\n",
    "            \"  6: Oceania\\n\"\n",
    "            \"  7: Rest of Europe\\n\"\n",
    "            \"  8: South America\\n\",\n",
    "            validate_region,\n",
    "            \"Region\"\n",
    "        )\n",
    "    ]\n",
    "    return precise_qv #array of tuples"
   ]
  },
  {
   "cell_type": "code",
   "execution_count": 49,
   "id": "4cb769d8-60e4-4aa7-9014-ce4e99770bd7",
   "metadata": {},
   "outputs": [],
   "source": [
    "#questions for the minimal model \n",
    "def get_minimal_question_and_validation():\n",
    "    minimal_qv = [       \n",
    "        (\"Under five deaths (Number of under-five deaths per 1000 population)\\n\",\n",
    "             validate_positive_float,\n",
    "            \"Under_five_deaths\"\n",
    "        ),\n",
    "        (\"Adult mortality (Probability of dying between 15 and 60 years per 1000 population)\\n\", \n",
    "             validate_positive_float,\n",
    "             \"Adult_mortality\",\n",
    "        ),\n",
    "        (\"BMI (Average Body Mass Index of entire population)\\n\", \n",
    "             validate_bmi,\n",
    "            \"BMI\"\n",
    "        )\n",
    "    ] \n",
    "    return minimal_qv #array of tuples"
   ]
  },
  {
   "cell_type": "markdown",
   "id": "dfa5b413-10ca-49ff-aabd-8e467842ce70",
   "metadata": {},
   "source": [
    "## Logic "
   ]
  },
  {
   "cell_type": "code",
   "execution_count": 52,
   "id": "e44ad304-2049-4672-a6d9-25e4b77cfaf4",
   "metadata": {},
   "outputs": [],
   "source": [
    "# First prompt asked, selection of model. This will affect the questions asked and determine the model used to calculate the life expectancy\n",
    "def get_model_wanted():\n",
    "    while True: #Will keep trying until a response is succesful \n",
    "        try:\n",
    "            #question to be asked, y/n\n",
    "            response = input(    \n",
    "                \"Do you consent to using advanced population data, which may include protected information, for better accuracy? (Y/N)\"\n",
    "            )\n",
    "            validated_response = validate_consent(response) #check that the user response is a y/n selection\n",
    "            break #succesful response, exit the loop\n",
    "        except ValueError as e: #error raised, print the error. \n",
    "                print(e)\n",
    "    return validated_response"
   ]
  },
  {
   "cell_type": "code",
   "execution_count": 54,
   "id": "cadc705d-fa65-4498-b016-fb7b91b628e2",
   "metadata": {},
   "outputs": [],
   "source": [
    "#main application \n",
    "def app():\n",
    "    model_chosed = get_model_wanted() #prompt for a model selection, ask for consent y/n\n",
    "    if model_chosed: #precise model selected\n",
    "        print(\"***** Precise Model ***** \\n\\n\\n\") #print user feedback to verify choice\n",
    "        questions_and_validators = get_precise_question_and_validation() #gather the questions and validators that precise model needs\n",
    "        model_param = model_1_params #assign model parameters to be for precise model\n",
    "    else: #same as above but for minimalistic model\n",
    "        print(\"***** Minimalistic Model *****\\n\\n\\n\")\n",
    "        questions_and_validators = get_minimal_question_and_validation()\n",
    "        model_param = model_2_params\n",
    "    \n",
    "    responses = {} #initialise response dictionary\n",
    "    for question, validator, name in questions_and_validators: #iterate through each tuple in the array \n",
    "        while True:# try until we get a successful response\n",
    "            try:\n",
    "                response = input(f\"{question} \") #output question \n",
    "                validated_response = validator(response) #use validation on response\n",
    "                if name == 'Region': #if we are asking about region map then map the region and assign value as 1 \n",
    "                    responses[validated_response] = 1 #OHE maps as true or not, so value will always be one\n",
    "                else:\n",
    "                    responses[name] = validated_response\n",
    "                \n",
    "                break #succesfull response, break the loop and to next iteration \n",
    "            except ValueError as e: #raise error if any value errors raised during validation \n",
    "                print(e)\n",
    "     \n",
    "\n",
    "    print(\"\\n\\n\\n*****  *****\")\n",
    "    scaled_responses = scale_responses(responses) #scale the responses \n",
    "    prediction = compute_prediction(scaled_responses, model_param) #execute the prediction model \n",
    "    \n",
    "    # print(f\"Your responses are: \\n {responses}\") #feedback to verify correct gathering of responses\n",
    "    print(f\"\\n\\nPredicted life expectancy is: \\n\\n{prediction:.2f}\") #output computated life expectancy to 2 dp "
   ]
  },
  {
   "cell_type": "markdown",
   "id": "b55e84d6-a050-4056-bcd1-596038f5e6cc",
   "metadata": {},
   "source": [
    "# Application "
   ]
  },
  {
   "cell_type": "code",
   "execution_count": 57,
   "id": "1c48fa22-f186-4ef6-89b9-0466472c36cf",
   "metadata": {},
   "outputs": [
    {
     "name": "stdin",
     "output_type": "stream",
     "text": [
      "Do you consent to using advanced population data, which may include protected information, for better accuracy? (Y/N) y\n"
     ]
    },
    {
     "name": "stdout",
     "output_type": "stream",
     "text": [
      "***** Precise Model ***** \n",
      "\n",
      "\n",
      "\n"
     ]
    },
    {
     "name": "stdin",
     "output_type": "stream",
     "text": [
      "Under five deaths (Number of under-five deaths per 1000 population)\n",
      "  1\n",
      "Adult mortality (Probability of dying between 15 and 60 years per 1000 population)\n",
      "  1\n",
      "BMI (Average Body Mass Index of entire population)\n",
      "  1\n",
      "Schooling (Number of years of Schooling(years)):\n",
      "  1\n",
      "Incidents of HIV (Deaths per 1,000 live births HIV/AIDS (0-4 years))\n",
      "  1\n",
      "GDP per capita (Gross Domestic Product per capita (in USD))\n",
      "$  1\n",
      "Select a region for:\n",
      "  1: Asia\n",
      "  2: Central America and Caribbean\n",
      "  3: European Union\n",
      "  4: Middle East\n",
      "  5: North America\n",
      "  6: Oceania\n",
      "  7: Rest of Europe\n",
      "  8: South America\n",
      "  1\n"
     ]
    },
    {
     "name": "stdout",
     "output_type": "stream",
     "text": [
      "\n",
      "\n",
      "\n",
      "*****  *****\n",
      "\n",
      "\n",
      "Predicted life expectancy is: \n",
      "\n",
      "78.22\n"
     ]
    }
   ],
   "source": [
    "data = app() #run app "
   ]
  },
  {
   "cell_type": "code",
   "execution_count": null,
   "id": "38fac6d2-0084-43d4-b800-89dbd3797902",
   "metadata": {},
   "outputs": [],
   "source": []
  }
 ],
 "metadata": {
  "kernelspec": {
   "display_name": "Python 3 (ipykernel)",
   "language": "python",
   "name": "python3"
  },
  "language_info": {
   "codemirror_mode": {
    "name": "ipython",
    "version": 3
   },
   "file_extension": ".py",
   "mimetype": "text/x-python",
   "name": "python",
   "nbconvert_exporter": "python",
   "pygments_lexer": "ipython3",
   "version": "3.12.7"
  }
 },
 "nbformat": 4,
 "nbformat_minor": 5
}
