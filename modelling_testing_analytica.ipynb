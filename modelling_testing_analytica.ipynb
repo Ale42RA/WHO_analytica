{
 "cells": [
  {
   "cell_type": "markdown",
   "id": "5592c1d5",
   "metadata": {},
   "source": [
    "# Analytica - Modelling"
   ]
  },
  {
   "cell_type": "markdown",
   "id": "b3c957b7",
   "metadata": {
    "jp-MarkdownHeadingCollapsed": true
   },
   "source": [
    "## Run 'fe' Notebook"
   ]
  },
  {
   "cell_type": "code",
   "execution_count": 1,
   "id": "40eed136",
   "metadata": {},
   "outputs": [
    {
     "name": "stdout",
     "output_type": "stream",
     "text": [
      "X_train:   (2291, 20)\n",
      "y_train:   (2291,)\n",
      "\n",
      "X_test:    (573, 20)\n",
      "y_test:    (573,)\n",
      "Sum of nulls: 0\n"
     ]
    }
   ],
   "source": [
    "## Running the entire 'fe' notebook to apply these practices within this modelling \n",
    "\n",
    "%run ./fe.ipynb"
   ]
  },
  {
   "cell_type": "code",
   "execution_count": 2,
   "id": "a9fbe5d8",
   "metadata": {},
   "outputs": [],
   "source": [
    "##  Additional library/module imporitng\n",
    "\n",
    "import statsmodels.tools\n",
    "import seaborn as sns"
   ]
  },
  {
   "cell_type": "markdown",
   "id": "79bd37ea",
   "metadata": {},
   "source": [
    "## Modelling"
   ]
  },
  {
   "cell_type": "markdown",
   "id": "7357550c",
   "metadata": {},
   "source": [
    "### Precise Model Train"
   ]
  },
  {
   "cell_type": "code",
   "execution_count": 12,
   "id": "1cd029fd",
   "metadata": {},
   "outputs": [
    {
     "data": {
      "text/html": [
       "<table class=\"simpletable\">\n",
       "<caption>OLS Regression Results</caption>\n",
       "<tr>\n",
       "  <th>Dep. Variable:</th>     <td>Life_expectancy</td> <th>  R-squared:         </th> <td>   0.981</td>\n",
       "</tr>\n",
       "<tr>\n",
       "  <th>Model:</th>                   <td>OLS</td>       <th>  Adj. R-squared:    </th> <td>   0.981</td>\n",
       "</tr>\n",
       "<tr>\n",
       "  <th>Method:</th>             <td>Least Squares</td>  <th>  F-statistic:       </th> <td>   8432.</td>\n",
       "</tr>\n",
       "<tr>\n",
       "  <th>Date:</th>             <td>Mon, 09 Dec 2024</td> <th>  Prob (F-statistic):</th>  <td>  0.00</td> \n",
       "</tr>\n",
       "<tr>\n",
       "  <th>Time:</th>                 <td>12:03:14</td>     <th>  Log-Likelihood:    </th> <td> -3835.4</td>\n",
       "</tr>\n",
       "<tr>\n",
       "  <th>No. Observations:</th>      <td>  2291</td>      <th>  AIC:               </th> <td>   7701.</td>\n",
       "</tr>\n",
       "<tr>\n",
       "  <th>Df Residuals:</th>          <td>  2276</td>      <th>  BIC:               </th> <td>   7787.</td>\n",
       "</tr>\n",
       "<tr>\n",
       "  <th>Df Model:</th>              <td>    14</td>      <th>                     </th>     <td> </td>   \n",
       "</tr>\n",
       "<tr>\n",
       "  <th>Covariance Type:</th>      <td>nonrobust</td>    <th>                     </th>     <td> </td>   \n",
       "</tr>\n",
       "</table>\n",
       "<table class=\"simpletable\">\n",
       "<tr>\n",
       "                    <td></td>                      <th>coef</th>     <th>std err</th>      <th>t</th>      <th>P>|t|</th>  <th>[0.025</th>    <th>0.975]</th>  \n",
       "</tr>\n",
       "<tr>\n",
       "  <th>const</th>                                <td>   69.2120</td> <td>    0.178</td> <td>  387.919</td> <td> 0.000</td> <td>   68.862</td> <td>   69.562</td>\n",
       "</tr>\n",
       "<tr>\n",
       "  <th>Under_five_deaths</th>                    <td>   -4.1822</td> <td>    0.080</td> <td>  -52.548</td> <td> 0.000</td> <td>   -4.338</td> <td>   -4.026</td>\n",
       "</tr>\n",
       "<tr>\n",
       "  <th>Adult_mortality</th>                      <td>   -6.2478</td> <td>    0.075</td> <td>  -82.994</td> <td> 0.000</td> <td>   -6.395</td> <td>   -6.100</td>\n",
       "</tr>\n",
       "<tr>\n",
       "  <th>BMI</th>                                  <td>   -0.5530</td> <td>    0.048</td> <td>  -11.580</td> <td> 0.000</td> <td>   -0.647</td> <td>   -0.459</td>\n",
       "</tr>\n",
       "<tr>\n",
       "  <th>Schooling</th>                            <td>    0.5470</td> <td>    0.059</td> <td>    9.299</td> <td> 0.000</td> <td>    0.432</td> <td>    0.662</td>\n",
       "</tr>\n",
       "<tr>\n",
       "  <th>Region_Asia</th>                          <td>   -0.2588</td> <td>    0.115</td> <td>   -2.259</td> <td> 0.024</td> <td>   -0.483</td> <td>   -0.034</td>\n",
       "</tr>\n",
       "<tr>\n",
       "  <th>Region_Central America and Caribbean</th> <td>    1.5133</td> <td>    0.121</td> <td>   12.497</td> <td> 0.000</td> <td>    1.276</td> <td>    1.751</td>\n",
       "</tr>\n",
       "<tr>\n",
       "  <th>Region_European Union</th>                <td>    0.7187</td> <td>    0.141</td> <td>    5.114</td> <td> 0.000</td> <td>    0.443</td> <td>    0.994</td>\n",
       "</tr>\n",
       "<tr>\n",
       "  <th>Region_Middle East</th>                   <td>   -0.2255</td> <td>    0.145</td> <td>   -1.552</td> <td> 0.121</td> <td>   -0.510</td> <td>    0.059</td>\n",
       "</tr>\n",
       "<tr>\n",
       "  <th>Region_North America</th>                 <td>    1.4279</td> <td>    0.241</td> <td>    5.926</td> <td> 0.000</td> <td>    0.955</td> <td>    1.900</td>\n",
       "</tr>\n",
       "<tr>\n",
       "  <th>Region_Oceania</th>                       <td>   -0.7938</td> <td>    0.148</td> <td>   -5.365</td> <td> 0.000</td> <td>   -1.084</td> <td>   -0.504</td>\n",
       "</tr>\n",
       "<tr>\n",
       "  <th>Region_Rest of Europe</th>                <td>    0.3350</td> <td>    0.149</td> <td>    2.254</td> <td> 0.024</td> <td>    0.044</td> <td>    0.627</td>\n",
       "</tr>\n",
       "<tr>\n",
       "  <th>Region_South America</th>                 <td>    1.0845</td> <td>    0.137</td> <td>    7.927</td> <td> 0.000</td> <td>    0.816</td> <td>    1.353</td>\n",
       "</tr>\n",
       "<tr>\n",
       "  <th>Incidents_HIV_log</th>                    <td>   -1.2380</td> <td>    0.234</td> <td>   -5.295</td> <td> 0.000</td> <td>   -1.697</td> <td>   -0.780</td>\n",
       "</tr>\n",
       "<tr>\n",
       "  <th>GDP_per_capita_log</th>                   <td>    5.0625</td> <td>    0.259</td> <td>   19.568</td> <td> 0.000</td> <td>    4.555</td> <td>    5.570</td>\n",
       "</tr>\n",
       "</table>\n",
       "<table class=\"simpletable\">\n",
       "<tr>\n",
       "  <th>Omnibus:</th>       <td>54.949</td> <th>  Durbin-Watson:     </th> <td>   2.052</td>\n",
       "</tr>\n",
       "<tr>\n",
       "  <th>Prob(Omnibus):</th> <td> 0.000</td> <th>  Jarque-Bera (JB):  </th> <td>  64.203</td>\n",
       "</tr>\n",
       "<tr>\n",
       "  <th>Skew:</th>          <td> 0.325</td> <th>  Prob(JB):          </th> <td>1.14e-14</td>\n",
       "</tr>\n",
       "<tr>\n",
       "  <th>Kurtosis:</th>      <td> 3.500</td> <th>  Cond. No.          </th> <td>    20.2</td>\n",
       "</tr>\n",
       "</table><br/><br/>Notes:<br/>[1] Standard Errors assume that the covariance matrix of the errors is correctly specified."
      ],
      "text/latex": [
       "\\begin{center}\n",
       "\\begin{tabular}{lclc}\n",
       "\\toprule\n",
       "\\textbf{Dep. Variable:}                        & Life\\_expectancy & \\textbf{  R-squared:         } &     0.981   \\\\\n",
       "\\textbf{Model:}                                &       OLS        & \\textbf{  Adj. R-squared:    } &     0.981   \\\\\n",
       "\\textbf{Method:}                               &  Least Squares   & \\textbf{  F-statistic:       } &     8432.   \\\\\n",
       "\\textbf{Date:}                                 & Mon, 09 Dec 2024 & \\textbf{  Prob (F-statistic):} &     0.00    \\\\\n",
       "\\textbf{Time:}                                 &     12:03:14     & \\textbf{  Log-Likelihood:    } &   -3835.4   \\\\\n",
       "\\textbf{No. Observations:}                     &        2291      & \\textbf{  AIC:               } &     7701.   \\\\\n",
       "\\textbf{Df Residuals:}                         &        2276      & \\textbf{  BIC:               } &     7787.   \\\\\n",
       "\\textbf{Df Model:}                             &          14      & \\textbf{                     } &             \\\\\n",
       "\\textbf{Covariance Type:}                      &    nonrobust     & \\textbf{                     } &             \\\\\n",
       "\\bottomrule\n",
       "\\end{tabular}\n",
       "\\begin{tabular}{lcccccc}\n",
       "                                               & \\textbf{coef} & \\textbf{std err} & \\textbf{t} & \\textbf{P$> |$t$|$} & \\textbf{[0.025} & \\textbf{0.975]}  \\\\\n",
       "\\midrule\n",
       "\\textbf{const}                                 &      69.2120  &        0.178     &   387.919  &         0.000        &       68.862    &       69.562     \\\\\n",
       "\\textbf{Under\\_five\\_deaths}                   &      -4.1822  &        0.080     &   -52.548  &         0.000        &       -4.338    &       -4.026     \\\\\n",
       "\\textbf{Adult\\_mortality}                      &      -6.2478  &        0.075     &   -82.994  &         0.000        &       -6.395    &       -6.100     \\\\\n",
       "\\textbf{BMI}                                   &      -0.5530  &        0.048     &   -11.580  &         0.000        &       -0.647    &       -0.459     \\\\\n",
       "\\textbf{Schooling}                             &       0.5470  &        0.059     &     9.299  &         0.000        &        0.432    &        0.662     \\\\\n",
       "\\textbf{Region\\_Asia}                          &      -0.2588  &        0.115     &    -2.259  &         0.024        &       -0.483    &       -0.034     \\\\\n",
       "\\textbf{Region\\_Central America and Caribbean} &       1.5133  &        0.121     &    12.497  &         0.000        &        1.276    &        1.751     \\\\\n",
       "\\textbf{Region\\_European Union}                &       0.7187  &        0.141     &     5.114  &         0.000        &        0.443    &        0.994     \\\\\n",
       "\\textbf{Region\\_Middle East}                   &      -0.2255  &        0.145     &    -1.552  &         0.121        &       -0.510    &        0.059     \\\\\n",
       "\\textbf{Region\\_North America}                 &       1.4279  &        0.241     &     5.926  &         0.000        &        0.955    &        1.900     \\\\\n",
       "\\textbf{Region\\_Oceania}                       &      -0.7938  &        0.148     &    -5.365  &         0.000        &       -1.084    &       -0.504     \\\\\n",
       "\\textbf{Region\\_Rest of Europe}                &       0.3350  &        0.149     &     2.254  &         0.024        &        0.044    &        0.627     \\\\\n",
       "\\textbf{Region\\_South America}                 &       1.0845  &        0.137     &     7.927  &         0.000        &        0.816    &        1.353     \\\\\n",
       "\\textbf{Incidents\\_HIV\\_log}                   &      -1.2380  &        0.234     &    -5.295  &         0.000        &       -1.697    &       -0.780     \\\\\n",
       "\\textbf{GDP\\_per\\_capita\\_log}                 &       5.0625  &        0.259     &    19.568  &         0.000        &        4.555    &        5.570     \\\\\n",
       "\\bottomrule\n",
       "\\end{tabular}\n",
       "\\begin{tabular}{lclc}\n",
       "\\textbf{Omnibus:}       & 54.949 & \\textbf{  Durbin-Watson:     } &    2.052  \\\\\n",
       "\\textbf{Prob(Omnibus):} &  0.000 & \\textbf{  Jarque-Bera (JB):  } &   64.203  \\\\\n",
       "\\textbf{Skew:}          &  0.325 & \\textbf{  Prob(JB):          } & 1.14e-14  \\\\\n",
       "\\textbf{Kurtosis:}      &  3.500 & \\textbf{  Cond. No.          } &     20.2  \\\\\n",
       "\\bottomrule\n",
       "\\end{tabular}\n",
       "%\\caption{OLS Regression Results}\n",
       "\\end{center}\n",
       "\n",
       "Notes: \\newline\n",
       " [1] Standard Errors assume that the covariance matrix of the errors is correctly specified."
      ],
      "text/plain": [
       "<class 'statsmodels.iolib.summary.Summary'>\n",
       "\"\"\"\n",
       "                            OLS Regression Results                            \n",
       "==============================================================================\n",
       "Dep. Variable:        Life_expectancy   R-squared:                       0.981\n",
       "Model:                            OLS   Adj. R-squared:                  0.981\n",
       "Method:                 Least Squares   F-statistic:                     8432.\n",
       "Date:                Mon, 09 Dec 2024   Prob (F-statistic):               0.00\n",
       "Time:                        12:03:14   Log-Likelihood:                -3835.4\n",
       "No. Observations:                2291   AIC:                             7701.\n",
       "Df Residuals:                    2276   BIC:                             7787.\n",
       "Df Model:                          14                                         \n",
       "Covariance Type:            nonrobust                                         \n",
       "========================================================================================================\n",
       "                                           coef    std err          t      P>|t|      [0.025      0.975]\n",
       "--------------------------------------------------------------------------------------------------------\n",
       "const                                   69.2120      0.178    387.919      0.000      68.862      69.562\n",
       "Under_five_deaths                       -4.1822      0.080    -52.548      0.000      -4.338      -4.026\n",
       "Adult_mortality                         -6.2478      0.075    -82.994      0.000      -6.395      -6.100\n",
       "BMI                                     -0.5530      0.048    -11.580      0.000      -0.647      -0.459\n",
       "Schooling                                0.5470      0.059      9.299      0.000       0.432       0.662\n",
       "Region_Asia                             -0.2588      0.115     -2.259      0.024      -0.483      -0.034\n",
       "Region_Central America and Caribbean     1.5133      0.121     12.497      0.000       1.276       1.751\n",
       "Region_European Union                    0.7187      0.141      5.114      0.000       0.443       0.994\n",
       "Region_Middle East                      -0.2255      0.145     -1.552      0.121      -0.510       0.059\n",
       "Region_North America                     1.4279      0.241      5.926      0.000       0.955       1.900\n",
       "Region_Oceania                          -0.7938      0.148     -5.365      0.000      -1.084      -0.504\n",
       "Region_Rest of Europe                    0.3350      0.149      2.254      0.024       0.044       0.627\n",
       "Region_South America                     1.0845      0.137      7.927      0.000       0.816       1.353\n",
       "Incidents_HIV_log                       -1.2380      0.234     -5.295      0.000      -1.697      -0.780\n",
       "GDP_per_capita_log                       5.0625      0.259     19.568      0.000       4.555       5.570\n",
       "==============================================================================\n",
       "Omnibus:                       54.949   Durbin-Watson:                   2.052\n",
       "Prob(Omnibus):                  0.000   Jarque-Bera (JB):               64.203\n",
       "Skew:                           0.325   Prob(JB):                     1.14e-14\n",
       "Kurtosis:                       3.500   Cond. No.                         20.2\n",
       "==============================================================================\n",
       "\n",
       "Notes:\n",
       "[1] Standard Errors assume that the covariance matrix of the errors is correctly specified.\n",
       "\"\"\""
      ]
     },
     "execution_count": 12,
     "metadata": {},
     "output_type": "execute_result"
    }
   ],
   "source": [
    "## Fit train set on the precise model and check summary\n",
    "\n",
    "lin_reg = sm.OLS(y_train, X_train_fe[feature_cols_pre])\n",
    "results = lin_reg.fit()\n",
    "results.summary()"
   ]
  },
  {
   "cell_type": "code",
   "execution_count": 13,
   "id": "82fdcb06",
   "metadata": {},
   "outputs": [
    {
     "name": "stdout",
     "output_type": "stream",
     "text": [
      "R-squared   = 98.1%\n",
      "AIC         = 7701\n",
      "BIC         = 7787\n",
      "Cond. No.   = 20.2\n"
     ]
    }
   ],
   "source": [
    "## Print main results values\n",
    "\n",
    "print(f\"R-squared   = 98.1%\")\n",
    "print(f\"AIC         = 7701\")\n",
    "print(f\"BIC         = 7787\")\n",
    "print(f\"Cond. No.   = 20.2\")"
   ]
  },
  {
   "cell_type": "markdown",
   "id": "fa004699",
   "metadata": {},
   "source": [
    "### Precise Model Test"
   ]
  },
  {
   "cell_type": "code",
   "execution_count": 14,
   "id": "408d92aa",
   "metadata": {},
   "outputs": [
    {
     "name": "stdout",
     "output_type": "stream",
     "text": [
      "Test RMSE = 1.297319851703965\n"
     ]
    }
   ],
   "source": [
    "## Predict results of the precise model\n",
    "\n",
    "# Train set\n",
    "y_pred = results.predict(X_train_fe[feature_cols_pre])\n",
    "y_pred_rmse = statsmodels.tools.eval_measures.rmse(y_train, y_pred)\n",
    "\n",
    "# Test test\n",
    "y_test_pred = results.predict(X_test_fe[feature_cols_pre])\n",
    "y_test_pred_rmse = statsmodels.tools.eval_measures.rmse(y_test, y_test_pred)\n",
    "\n",
    "# Print RMSE values\n",
    "print(f'Test RMSE = {(y_test_pred_rmse)}')"
   ]
  },
  {
   "cell_type": "markdown",
   "id": "3e624da3",
   "metadata": {
    "jp-MarkdownHeadingCollapsed": true
   },
   "source": [
    "### Precise Model Test Prediction Comparison"
   ]
  },
  {
   "cell_type": "code",
   "execution_count": 15,
   "id": "ffa8a6bd",
   "metadata": {},
   "outputs": [
    {
     "data": {
      "text/html": [
       "<div>\n",
       "<style scoped>\n",
       "    .dataframe tbody tr th:only-of-type {\n",
       "        vertical-align: middle;\n",
       "    }\n",
       "\n",
       "    .dataframe tbody tr th {\n",
       "        vertical-align: top;\n",
       "    }\n",
       "\n",
       "    .dataframe thead th {\n",
       "        text-align: right;\n",
       "    }\n",
       "</style>\n",
       "<table border=\"1\" class=\"dataframe\">\n",
       "  <thead>\n",
       "    <tr style=\"text-align: right;\">\n",
       "      <th></th>\n",
       "      <th>Actual</th>\n",
       "      <th>Predicted</th>\n",
       "    </tr>\n",
       "  </thead>\n",
       "  <tbody>\n",
       "    <tr>\n",
       "      <th>1327</th>\n",
       "      <td>74.9</td>\n",
       "      <td>75.189822</td>\n",
       "    </tr>\n",
       "    <tr>\n",
       "      <th>2677</th>\n",
       "      <td>52.8</td>\n",
       "      <td>54.425111</td>\n",
       "    </tr>\n",
       "    <tr>\n",
       "      <th>906</th>\n",
       "      <td>77.3</td>\n",
       "      <td>77.945101</td>\n",
       "    </tr>\n",
       "    <tr>\n",
       "      <th>696</th>\n",
       "      <td>76.5</td>\n",
       "      <td>76.259130</td>\n",
       "    </tr>\n",
       "    <tr>\n",
       "      <th>898</th>\n",
       "      <td>53.1</td>\n",
       "      <td>55.328733</td>\n",
       "    </tr>\n",
       "    <tr>\n",
       "      <th>1676</th>\n",
       "      <td>80.8</td>\n",
       "      <td>78.571824</td>\n",
       "    </tr>\n",
       "    <tr>\n",
       "      <th>338</th>\n",
       "      <td>56.6</td>\n",
       "      <td>57.731527</td>\n",
       "    </tr>\n",
       "    <tr>\n",
       "      <th>2827</th>\n",
       "      <td>54.3</td>\n",
       "      <td>58.193324</td>\n",
       "    </tr>\n",
       "    <tr>\n",
       "      <th>2735</th>\n",
       "      <td>72.7</td>\n",
       "      <td>74.329187</td>\n",
       "    </tr>\n",
       "    <tr>\n",
       "      <th>1608</th>\n",
       "      <td>71.0</td>\n",
       "      <td>71.060550</td>\n",
       "    </tr>\n",
       "  </tbody>\n",
       "</table>\n",
       "</div>"
      ],
      "text/plain": [
       "      Actual  Predicted\n",
       "1327    74.9  75.189822\n",
       "2677    52.8  54.425111\n",
       "906     77.3  77.945101\n",
       "696     76.5  76.259130\n",
       "898     53.1  55.328733\n",
       "1676    80.8  78.571824\n",
       "338     56.6  57.731527\n",
       "2827    54.3  58.193324\n",
       "2735    72.7  74.329187\n",
       "1608    71.0  71.060550"
      ]
     },
     "execution_count": 15,
     "metadata": {},
     "output_type": "execute_result"
    }
   ],
   "source": [
    "## Preview comparative results from precise model's original and predicted target\n",
    "\n",
    "results_pre_df = pd.DataFrame({'Actual': y_test, 'Predicted': y_test_pred})\n",
    "results_pre_df.head(10)"
   ]
  },
  {
   "cell_type": "markdown",
   "id": "5f2f2c32-0c03-4d2e-9e46-f853f299b485",
   "metadata": {},
   "source": [
    "---\n",
    "\n",
    "#### Model Overview\n",
    "\n",
    "- **R-squared:** 98.1%  \n",
    "  - This indicates that 98.1% of the variance in life expectancy is explained by the model's predictors.\n",
    "  - The model explains most variability in life expectancy, implying a strong predictive capability.\n",
    "- **Adjusted R-squared:** 98.1%  \n",
    "  - Adjusted for the number of predictors, maintaining the high explanatory power.\n",
    "- **Condition Number:** 20.2  \n",
    "  - Indicates low multicollinearity issues. We decided on an threshold of 30, below that was acceptable.\n",
    "\n",
    "---\n",
    "\n",
    "##### Positive Impact on Life Expectancy\n",
    "- **Schooling:** Possitive coefficient and a low P value. More education may lead to a longer life expectancy.\n",
    "- **GDP per capita (log-transformed):** Economic growth strongly correlates with higher life expectancy.\n",
    "\n",
    "##### Negative Impact on Life Expectancy\n",
    "- **Under Five Deaths,Adult Mortality , BMI :** Higher mortality rates significantly reduce life expectancy. As for BMI, suggests potential health concerns at higher BMI levels.\n",
    "- **HIV Incidents (log-transformed):** Highlights the detrimental effect of HIV prevalence on health.\n",
    "---\n",
    "\n",
    "##### Tested against predictions\n",
    "- **Test RMSE:** 1.2973  \n",
    "  - The average deviation between predicted and actual life expectancy values of 1.29 Years\n",
    " \n",
    "#### p-Values of Key Predictors\n",
    "\n",
    " **Low p-values (p < 0.05) - Statistically Significant**\n",
    "- Under Five Deaths, Adult Mortality, BMI, Schooling:, Incidents HIV (log-transformed), GDP per Capita (log-transformed)\n",
    "\n",
    " **High p-values (p > 0.05) - Not Statistically Significant**\n",
    "- **Region Effects:**\n",
    "  - Asia, Middle East, Rest of Europe:"
   ]
  },
  {
   "cell_type": "markdown",
   "id": "2ee8d21c",
   "metadata": {},
   "source": [
    "### Minimalistic Model"
   ]
  },
  {
   "cell_type": "code",
   "execution_count": 7,
   "id": "20bdbc13",
   "metadata": {},
   "outputs": [
    {
     "data": {
      "text/html": [
       "<table class=\"simpletable\">\n",
       "<caption>OLS Regression Results</caption>\n",
       "<tr>\n",
       "  <th>Dep. Variable:</th>     <td>Life_expectancy</td> <th>  R-squared:         </th> <td>   0.967</td> \n",
       "</tr>\n",
       "<tr>\n",
       "  <th>Model:</th>                   <td>OLS</td>       <th>  Adj. R-squared:    </th> <td>   0.967</td> \n",
       "</tr>\n",
       "<tr>\n",
       "  <th>Method:</th>             <td>Least Squares</td>  <th>  F-statistic:       </th> <td>2.222e+04</td>\n",
       "</tr>\n",
       "<tr>\n",
       "  <th>Date:</th>             <td>Mon, 09 Dec 2024</td> <th>  Prob (F-statistic):</th>  <td>  0.00</td>  \n",
       "</tr>\n",
       "<tr>\n",
       "  <th>Time:</th>                 <td>12:02:58</td>     <th>  Log-Likelihood:    </th> <td> -4478.5</td> \n",
       "</tr>\n",
       "<tr>\n",
       "  <th>No. Observations:</th>      <td>  2291</td>      <th>  AIC:               </th> <td>   8965.</td> \n",
       "</tr>\n",
       "<tr>\n",
       "  <th>Df Residuals:</th>          <td>  2287</td>      <th>  BIC:               </th> <td>   8988.</td> \n",
       "</tr>\n",
       "<tr>\n",
       "  <th>Df Model:</th>              <td>     3</td>      <th>                     </th>     <td> </td>    \n",
       "</tr>\n",
       "<tr>\n",
       "  <th>Covariance Type:</th>      <td>nonrobust</td>    <th>                     </th>     <td> </td>    \n",
       "</tr>\n",
       "</table>\n",
       "<table class=\"simpletable\">\n",
       "<tr>\n",
       "          <td></td>             <th>coef</th>     <th>std err</th>      <th>t</th>      <th>P>|t|</th>  <th>[0.025</th>    <th>0.975]</th>  \n",
       "</tr>\n",
       "<tr>\n",
       "  <th>const</th>             <td>   72.1526</td> <td>    0.042</td> <td> 1722.544</td> <td> 0.000</td> <td>   72.070</td> <td>   72.235</td>\n",
       "</tr>\n",
       "<tr>\n",
       "  <th>Under_five_deaths</th> <td>   -5.4946</td> <td>    0.085</td> <td>  -64.277</td> <td> 0.000</td> <td>   -5.662</td> <td>   -5.327</td>\n",
       "</tr>\n",
       "<tr>\n",
       "  <th>Adult_mortality</th>   <td>   -6.6580</td> <td>    0.071</td> <td>  -93.800</td> <td> 0.000</td> <td>   -6.797</td> <td>   -6.519</td>\n",
       "</tr>\n",
       "<tr>\n",
       "  <th>BMI</th>               <td>   -0.1304</td> <td>    0.048</td> <td>   -2.735</td> <td> 0.006</td> <td>   -0.224</td> <td>   -0.037</td>\n",
       "</tr>\n",
       "</table>\n",
       "<table class=\"simpletable\">\n",
       "<tr>\n",
       "  <th>Omnibus:</th>       <td>53.014</td> <th>  Durbin-Watson:     </th> <td>   2.020</td>\n",
       "</tr>\n",
       "<tr>\n",
       "  <th>Prob(Omnibus):</th> <td> 0.000</td> <th>  Jarque-Bera (JB):  </th> <td>  65.243</td>\n",
       "</tr>\n",
       "<tr>\n",
       "  <th>Skew:</th>          <td> 0.299</td> <th>  Prob(JB):          </th> <td>6.80e-15</td>\n",
       "</tr>\n",
       "<tr>\n",
       "  <th>Kurtosis:</th>      <td> 3.571</td> <th>  Cond. No.          </th> <td>    4.14</td>\n",
       "</tr>\n",
       "</table><br/><br/>Notes:<br/>[1] Standard Errors assume that the covariance matrix of the errors is correctly specified."
      ],
      "text/latex": [
       "\\begin{center}\n",
       "\\begin{tabular}{lclc}\n",
       "\\toprule\n",
       "\\textbf{Dep. Variable:}      & Life\\_expectancy & \\textbf{  R-squared:         } &     0.967   \\\\\n",
       "\\textbf{Model:}              &       OLS        & \\textbf{  Adj. R-squared:    } &     0.967   \\\\\n",
       "\\textbf{Method:}             &  Least Squares   & \\textbf{  F-statistic:       } & 2.222e+04   \\\\\n",
       "\\textbf{Date:}               & Mon, 09 Dec 2024 & \\textbf{  Prob (F-statistic):} &     0.00    \\\\\n",
       "\\textbf{Time:}               &     12:02:58     & \\textbf{  Log-Likelihood:    } &   -4478.5   \\\\\n",
       "\\textbf{No. Observations:}   &        2291      & \\textbf{  AIC:               } &     8965.   \\\\\n",
       "\\textbf{Df Residuals:}       &        2287      & \\textbf{  BIC:               } &     8988.   \\\\\n",
       "\\textbf{Df Model:}           &           3      & \\textbf{                     } &             \\\\\n",
       "\\textbf{Covariance Type:}    &    nonrobust     & \\textbf{                     } &             \\\\\n",
       "\\bottomrule\n",
       "\\end{tabular}\n",
       "\\begin{tabular}{lcccccc}\n",
       "                             & \\textbf{coef} & \\textbf{std err} & \\textbf{t} & \\textbf{P$> |$t$|$} & \\textbf{[0.025} & \\textbf{0.975]}  \\\\\n",
       "\\midrule\n",
       "\\textbf{const}               &      72.1526  &        0.042     &  1722.544  &         0.000        &       72.070    &       72.235     \\\\\n",
       "\\textbf{Under\\_five\\_deaths} &      -5.4946  &        0.085     &   -64.277  &         0.000        &       -5.662    &       -5.327     \\\\\n",
       "\\textbf{Adult\\_mortality}    &      -6.6580  &        0.071     &   -93.800  &         0.000        &       -6.797    &       -6.519     \\\\\n",
       "\\textbf{BMI}                 &      -0.1304  &        0.048     &    -2.735  &         0.006        &       -0.224    &       -0.037     \\\\\n",
       "\\bottomrule\n",
       "\\end{tabular}\n",
       "\\begin{tabular}{lclc}\n",
       "\\textbf{Omnibus:}       & 53.014 & \\textbf{  Durbin-Watson:     } &    2.020  \\\\\n",
       "\\textbf{Prob(Omnibus):} &  0.000 & \\textbf{  Jarque-Bera (JB):  } &   65.243  \\\\\n",
       "\\textbf{Skew:}          &  0.299 & \\textbf{  Prob(JB):          } & 6.80e-15  \\\\\n",
       "\\textbf{Kurtosis:}      &  3.571 & \\textbf{  Cond. No.          } &     4.14  \\\\\n",
       "\\bottomrule\n",
       "\\end{tabular}\n",
       "%\\caption{OLS Regression Results}\n",
       "\\end{center}\n",
       "\n",
       "Notes: \\newline\n",
       " [1] Standard Errors assume that the covariance matrix of the errors is correctly specified."
      ],
      "text/plain": [
       "<class 'statsmodels.iolib.summary.Summary'>\n",
       "\"\"\"\n",
       "                            OLS Regression Results                            \n",
       "==============================================================================\n",
       "Dep. Variable:        Life_expectancy   R-squared:                       0.967\n",
       "Model:                            OLS   Adj. R-squared:                  0.967\n",
       "Method:                 Least Squares   F-statistic:                 2.222e+04\n",
       "Date:                Mon, 09 Dec 2024   Prob (F-statistic):               0.00\n",
       "Time:                        12:02:58   Log-Likelihood:                -4478.5\n",
       "No. Observations:                2291   AIC:                             8965.\n",
       "Df Residuals:                    2287   BIC:                             8988.\n",
       "Df Model:                           3                                         \n",
       "Covariance Type:            nonrobust                                         \n",
       "=====================================================================================\n",
       "                        coef    std err          t      P>|t|      [0.025      0.975]\n",
       "-------------------------------------------------------------------------------------\n",
       "const                72.1526      0.042   1722.544      0.000      72.070      72.235\n",
       "Under_five_deaths    -5.4946      0.085    -64.277      0.000      -5.662      -5.327\n",
       "Adult_mortality      -6.6580      0.071    -93.800      0.000      -6.797      -6.519\n",
       "BMI                  -0.1304      0.048     -2.735      0.006      -0.224      -0.037\n",
       "==============================================================================\n",
       "Omnibus:                       53.014   Durbin-Watson:                   2.020\n",
       "Prob(Omnibus):                  0.000   Jarque-Bera (JB):               65.243\n",
       "Skew:                           0.299   Prob(JB):                     6.80e-15\n",
       "Kurtosis:                       3.571   Cond. No.                         4.14\n",
       "==============================================================================\n",
       "\n",
       "Notes:\n",
       "[1] Standard Errors assume that the covariance matrix of the errors is correctly specified.\n",
       "\"\"\""
      ]
     },
     "execution_count": 7,
     "metadata": {},
     "output_type": "execute_result"
    }
   ],
   "source": [
    "## Fit train set on the minimalistic model and check summary\n",
    "\n",
    "lin_reg = sm.OLS(y_train, X_train_fe[feature_cols_min])\n",
    "results = lin_reg.fit()\n",
    "results.summary()"
   ]
  },
  {
   "cell_type": "code",
   "execution_count": 8,
   "id": "1024681d",
   "metadata": {},
   "outputs": [
    {
     "name": "stdout",
     "output_type": "stream",
     "text": [
      "R-squared   = 96.7%\n",
      "AIC         = 8965\n",
      "BIC         = 8988\n",
      "Cond. No.   = 4.14\n"
     ]
    }
   ],
   "source": [
    "## Print main results values\n",
    "\n",
    "print(f\"R-squared   = 96.7%\")\n",
    "print(f\"AIC         = 8965\")\n",
    "print(f\"BIC         = 8988\")\n",
    "print(f\"Cond. No.   = 4.14\")"
   ]
  },
  {
   "cell_type": "markdown",
   "id": "bd7bd0f5",
   "metadata": {},
   "source": [
    "### Minimalistic Model Test"
   ]
  },
  {
   "cell_type": "code",
   "execution_count": 9,
   "id": "e724a537",
   "metadata": {},
   "outputs": [
    {
     "name": "stdout",
     "output_type": "stream",
     "text": [
      "Test RMSE = 1.6713443054886408\n"
     ]
    }
   ],
   "source": [
    "## Predict results of the minimalistic model\n",
    "\n",
    "# Train set\n",
    "y_pred = results.predict(X_train_fe[feature_cols_min])\n",
    "y_pred_rmse = statsmodels.tools.eval_measures.rmse(y_train, y_pred)\n",
    "\n",
    "# Test test\n",
    "y_test_pred = results.predict(X_test_fe[feature_cols_min])\n",
    "y_test_pred_rmse = statsmodels.tools.eval_measures.rmse(y_test, y_test_pred)\n",
    "\n",
    "# Print RMSE values\n",
    "print(f'Test RMSE = {(y_test_pred_rmse)}')"
   ]
  },
  {
   "cell_type": "markdown",
   "id": "0ba2898a",
   "metadata": {},
   "source": [
    "### Minimalistic Model Test Prediction Comparison"
   ]
  },
  {
   "cell_type": "code",
   "execution_count": null,
   "id": "dd6e8ea6",
   "metadata": {},
   "outputs": [
    {
     "data": {
      "text/html": [
       "<div>\n",
       "<style scoped>\n",
       "    .dataframe tbody tr th:only-of-type {\n",
       "        vertical-align: middle;\n",
       "    }\n",
       "\n",
       "    .dataframe tbody tr th {\n",
       "        vertical-align: top;\n",
       "    }\n",
       "\n",
       "    .dataframe thead th {\n",
       "        text-align: right;\n",
       "    }\n",
       "</style>\n",
       "<table border=\"1\" class=\"dataframe\">\n",
       "  <thead>\n",
       "    <tr style=\"text-align: right;\">\n",
       "      <th></th>\n",
       "      <th>Actual</th>\n",
       "      <th>Predicted</th>\n",
       "    </tr>\n",
       "  </thead>\n",
       "  <tbody>\n",
       "    <tr>\n",
       "      <th>1327</th>\n",
       "      <td>74.9</td>\n",
       "      <td>74.720809</td>\n",
       "    </tr>\n",
       "    <tr>\n",
       "      <th>2677</th>\n",
       "      <td>52.8</td>\n",
       "      <td>54.254699</td>\n",
       "    </tr>\n",
       "    <tr>\n",
       "      <th>906</th>\n",
       "      <td>77.3</td>\n",
       "      <td>78.039202</td>\n",
       "    </tr>\n",
       "    <tr>\n",
       "      <th>696</th>\n",
       "      <td>76.5</td>\n",
       "      <td>75.181601</td>\n",
       "    </tr>\n",
       "    <tr>\n",
       "      <th>898</th>\n",
       "      <td>53.1</td>\n",
       "      <td>55.965291</td>\n",
       "    </tr>\n",
       "    <tr>\n",
       "      <th>1676</th>\n",
       "      <td>80.8</td>\n",
       "      <td>78.411471</td>\n",
       "    </tr>\n",
       "    <tr>\n",
       "      <th>338</th>\n",
       "      <td>56.6</td>\n",
       "      <td>58.314695</td>\n",
       "    </tr>\n",
       "    <tr>\n",
       "      <th>2827</th>\n",
       "      <td>54.3</td>\n",
       "      <td>57.114282</td>\n",
       "    </tr>\n",
       "    <tr>\n",
       "      <th>2735</th>\n",
       "      <td>72.7</td>\n",
       "      <td>73.820917</td>\n",
       "    </tr>\n",
       "    <tr>\n",
       "      <th>1608</th>\n",
       "      <td>71.0</td>\n",
       "      <td>70.403555</td>\n",
       "    </tr>\n",
       "  </tbody>\n",
       "</table>\n",
       "</div>"
      ],
      "text/plain": [
       "      Actual  Predicted\n",
       "1327    74.9  74.720809\n",
       "2677    52.8  54.254699\n",
       "906     77.3  78.039202\n",
       "696     76.5  75.181601\n",
       "898     53.1  55.965291\n",
       "1676    80.8  78.411471\n",
       "338     56.6  58.314695\n",
       "2827    54.3  57.114282\n",
       "2735    72.7  73.820917\n",
       "1608    71.0  70.403555"
      ]
     },
     "execution_count": 10,
     "metadata": {},
     "output_type": "execute_result"
    }
   ],
   "source": [
    "## Preview comparative results from minimalistic model's original and predicted target\n",
    "\n",
    "results_min_df = pd.DataFrame({'Actual': y_test, 'Predicted': y_test_pred})\n",
    "results_min_df.head(10)"
   ]
  },
  {
   "cell_type": "markdown",
   "id": "9f380d07-cb17-4ee2-96e9-d6787893ac7d",
   "metadata": {},
   "source": [
    "---\n",
    "\n",
    "#### Model Overview\n",
    "\n",
    "- **R-squared:** 96.7%  \n",
    "  - The model explains 96.7% of the variance in life expectancy, indicating a strong relationship between the predictors and the dependent variable.\n",
    "- **Adjusted R-squared:** 96.7%  \n",
    "  - Adjusted for the number of predictors, this high value reinforces the model’s explanatory power.\n",
    "- **Condition Number:** 4.14  \n",
    "  - The low condition number suggests no significant multicollinearity issues.\n",
    "\n",
    "---\n",
    "\n",
    "##### Positive Impact on Life Expectancy\n",
    "- **None identified in the model.** The predictors used are all negatively related to life expectancy.\n",
    "\n",
    "##### Negative Impact on Life Expectancy\n",
    "- **Under Five Deaths:** Higher under-five mortality is strongly associated with a decrease in life expectancy.\n",
    "- **Adult Mortality:** Higher adult mortality rates negatively affect life expectancy.\n",
    "- **BMI:** Increased BMI appears to reduce life expectancy, indicating a potential health risk at higher BMI levels.\n",
    "\n",
    "---\n",
    "\n",
    "##### Tested against predictions\n",
    "- **Test RMSE:** 1.671  \n",
    "  - The model's average deviation between predicted and actual life expectancy values is approximately 1.67 years, indicating reasonable prediction accuracy.\n",
    "\n",
    "---\n",
    "\n",
    "#### p-Values of Key Predictors\n",
    "\n",
    "**Low p-values (p < 0.05) - Statistically Significant**\n",
    "- Under Five Deaths\n",
    "- Adult Mortality\n",
    "- BMI\n",
    "\n",
    "---"
   ]
  },
  {
   "cell_type": "markdown",
   "id": "d450a677",
   "metadata": {},
   "source": [
    "### Region Bias Acknowledgment"
   ]
  },
  {
   "cell_type": "code",
   "execution_count": 16,
   "id": "2aa70312",
   "metadata": {},
   "outputs": [
    {
     "name": "stdout",
     "output_type": "stream",
     "text": [
      "RMSE for Region_Asia: 1.41075\n",
      "RMSE for Region_Central America and Caribbean: 1.46508\n",
      "RMSE for Region_European Union: 1.13664\n",
      "RMSE for Region_Middle East: 1.40315\n",
      "RMSE for Region_North America: 0.69966\n",
      "RMSE for Region_Oceania: 1.80102\n",
      "RMSE for Region_Rest of Europe: 0.74370\n",
      "RMSE for Region_South America: 0.99081\n"
     ]
    },
    {
     "data": {
      "text/plain": [
       "<Axes: >"
      ]
     },
     "execution_count": 16,
     "metadata": {},
     "output_type": "execute_result"
    },
    {
     "data": {
      "image/png": "[encoded data removed]",
      "text/plain": [
       "<Figure size 640x480 with 1 Axes>"
      ]
     },
     "metadata": {},
     "output_type": "display_data"
    }
   ],
   "source": [
    "## Calculate the bias in using Region as a feature in the 'Precise' model\n",
    "## Do NOT run the minimalistic model prior to this\n",
    "\n",
    "# Retrieve a list of the region columns\n",
    "regions = list(X_test_fe.columns[X_test_fe.columns.str.contains('Region_')])\n",
    "\n",
    "# Create an empty list\n",
    "rmse_dict = {}\n",
    "\n",
    "# Loop through each region column\n",
    "for region in regions:\n",
    "\n",
    "    # Create a mask of the dataframe for records belonging to the region\n",
    "    region_mask = X_test_fe[region] == 1\n",
    "\n",
    "    # Filter the dataframe for only records of the particular region\n",
    "    X_test_region = X_test_fe[region_mask]\n",
    "\n",
    "    # Predict the life expectancy using the 'Precise' model\n",
    "    y_test_pred_region = results.predict(X_test_region[feature_cols_pre])\n",
    "\n",
    "    # Calculate the RMSE\n",
    "    rmse = statsmodels.tools.eval_measures.rmse(y_test[region_mask], y_test_pred_region)\n",
    "\n",
    "    # Append the RMSE to the dictionary\n",
    "    rmse_dict[region] = rmse\n",
    "\n",
    "    # Print the RMSE calculated from records of the particular region\n",
    "    print(f'RMSE for {region}: {rmse:.5f}')\n",
    "\n",
    "# Create a dataframe\n",
    "region_bias = pd.DataFrame(rmse_dict.items(), columns = [[\"Region\", \"RMSE\"]])\n",
    "\n",
    "region_bias.describe()\n",
    "\n",
    "# Boxplot\n",
    "sns.boxplot(region_bias['RMSE'], orient = 'h')"
   ]
  },
  {
   "cell_type": "markdown",
   "id": "bbb1cb06-62b6-4225-ac65-23f9c315500f",
   "metadata": {},
   "source": [
    "---\n",
    "\n",
    "The RMSE values across regions vary, suggesting some level of predictive accuracy based on region. North America and Rest of Europe show the best prediction accuracy, with RMSEs under 1 year. In contrast, Oceania and Central America & Caribbean have the highest RMSEs, indicating less accurate predictions for these regions. Overall, these disparities in RMSE highlight that the model’s performance may differ across different geographic areas. \n",
    "\n",
    "---"
   ]
  },
  {
   "cell_type": "code",
   "execution_count": null,
   "id": "ec95c219-d379-4807-acc9-fefb7fbaffa2",
   "metadata": {},
   "outputs": [],
   "source": []
  }
 ],
 "metadata": {
  "kernelspec": {
   "display_name": "Python 3 (ipykernel)",
   "language": "python",
   "name": "python3"
  },
  "language_info": {
   "codemirror_mode": {
    "name": "ipython",
    "version": 3
   },
   "file_extension": ".py",
   "mimetype": "text/x-python",
   "name": "python",
   "nbconvert_exporter": "python",
   "pygments_lexer": "ipython3",
   "version": "3.12.7"
  }
 },
 "nbformat": 4,
 "nbformat_minor": 5
}
